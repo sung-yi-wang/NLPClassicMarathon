{
 "cells": [
  {
   "cell_type": "markdown",
   "id": "b066f86d-a833-4870-98b5-408f284d8282",
   "metadata": {},
   "source": [
    "# 正向最大匹配（FMM）"
   ]
  },
  {
   "cell_type": "code",
   "execution_count": 1,
   "id": "f3d2ebd2-bc66-4be2-9699-95f7e13c1cf6",
   "metadata": {},
   "outputs": [],
   "source": [
    "def FMM_func(user_dict, sentence):\n",
    "    \"\"\"\n",
    "    正向最大匹配（FMM）\n",
    "    :param user_dict: 詞典\n",
    "    :param sentence: 句子\n",
    "    \"\"\"\n",
    "    # 词典中最长词长度\n",
    "    max_len = max([len(item) for item in user_dict])\n",
    "    start = 0\n",
    "    result = []\n",
    "    print(\"正向最大匹配法斷詞結果為:\")\n",
    "\n",
    "    while start != len(sentence):\n",
    "        index = start + max_len\n",
    "        if index > len(sentence):\n",
    "            index = len(sentence)\n",
    "        for i in range(max_len):\n",
    "            if sentence[start:index] in user_dict or len(sentence[start:index]) == 1:\n",
    "                print(sentence[start:index], end='/')\n",
    "                result.append(sentence[start:index])\n",
    "                start = index                \n",
    "                break\n",
    "            index += -1\n",
    "\n",
    "    return result"
   ]
  },
  {
   "cell_type": "code",
   "execution_count": 2,
   "id": "63ddefa1-55b8-4df3-b817-686d853a60e4",
   "metadata": {},
   "outputs": [
    {
     "name": "stdout",
     "output_type": "stream",
     "text": [
      "正向最大匹配法斷詞結果為:\n",
      "我們/在台/北/植物園/散步/"
     ]
    },
    {
     "data": {
      "text/plain": [
       "['我們', '在台', '北', '植物園', '散步']"
      ]
     },
     "execution_count": 2,
     "metadata": {},
     "output_type": "execute_result"
    }
   ],
   "source": [
    "sentence = '我們在台北植物園散步'\n",
    "user_dict = ['我們', '在', '在台', '台北', '北', '植物園', '台北植物園', '植物', '物','散步']\n",
    "FMM_func(user_dict, sentence)"
   ]
  },
  {
   "cell_type": "markdown",
   "id": "88a17a66-b404-4812-864f-8e70f90dd3dc",
   "metadata": {},
   "source": [
    "# 反向最大匹配（BMM）"
   ]
  },
  {
   "cell_type": "code",
   "execution_count": 3,
   "id": "a288c8ef-4425-4d1d-bafb-5eea53778155",
   "metadata": {},
   "outputs": [],
   "source": [
    "def BMM_func(user_dict, sentence):\n",
    "    \"\"\"\n",
    "    反向最大匹配（BMM）\n",
    "    :param user_dict:詞典\n",
    "    :param sentence:句子\n",
    "    \"\"\"\n",
    "    # 词典中最长词长度\n",
    "    max_len = max([len(item) for item in user_dict])\n",
    "    start = len(sentence)\n",
    "    result = []\n",
    "    print(\"反向最大匹配法斷詞結果為:\")\n",
    "\n",
    "    while start != 0:\n",
    "        index = start - max_len\n",
    "        if index < 0:\n",
    "            index = 0\n",
    "        for i in range(max_len):\n",
    "            if sentence[index:start] in user_dict or len(sentence[index:start]) == 1:\n",
    "                result.append(sentence[index:start])\n",
    "                start = index\n",
    "                break\n",
    "            index += 1\n",
    "\n",
    "    for i in result[::-1]:\n",
    "        print(i, end='/')\n",
    "\n",
    "    return result[::-1]"
   ]
  },
  {
   "cell_type": "code",
   "execution_count": 4,
   "id": "91a377c0-eb4c-4c22-b980-090ec595b3f8",
   "metadata": {},
   "outputs": [
    {
     "name": "stdout",
     "output_type": "stream",
     "text": [
      "反向最大匹配法斷詞結果為:\n",
      "我們/在/台北植物園/散步/"
     ]
    },
    {
     "data": {
      "text/plain": [
       "['我們', '在', '台北植物園', '散步']"
      ]
     },
     "execution_count": 4,
     "metadata": {},
     "output_type": "execute_result"
    }
   ],
   "source": [
    "sentence = '我們在台北植物園散步'\n",
    "user_dict = ['我們', '在', '在台', '台北', '北', '植物園', '台北植物園', '植物', '物','散步']\n",
    "BMM_func(user_dict, sentence)"
   ]
  },
  {
   "cell_type": "markdown",
   "id": "0aef94c6-fc95-4069-b4d6-247dc7c3a48b",
   "metadata": {},
   "source": [
    "# 雙向最大匹配"
   ]
  },
  {
   "cell_type": "markdown",
   "id": "1d74cb15-e8e9-47db-b1ac-c1849f99591d",
   "metadata": {},
   "source": [
    "Q: 請利用上面的例子，寫出雙向最大匹配的程式"
   ]
  },
  {
   "cell_type": "code",
   "execution_count": 5,
   "id": "ebd8950f-bf8b-4bf3-a1de-1cb6eb2a2605",
   "metadata": {},
   "outputs": [
    {
     "name": "stdout",
     "output_type": "stream",
     "text": [
      "正向最大匹配法斷詞結果為:\n",
      "我們/在台/北/植物園/散步/\n",
      "反向最大匹配法斷詞結果為:\n",
      "我們/在/台北植物園/散步/\n",
      "雙向最大匹配法斷詞結果為:\n"
     ]
    },
    {
     "data": {
      "text/plain": [
       "['我們', '在', '台北植物園', '散步']"
      ]
     },
     "execution_count": 5,
     "metadata": {},
     "output_type": "execute_result"
    }
   ],
   "source": [
    "def Twoway_maximum_match(user_dict, sentence):\n",
    "    \"\"\"\n",
    "    param user_dict: 用户分词词典\n",
    "    param sentence: 需分词句子\n",
    "    \"\"\"\n",
    "    FMM_ = FMM_func(user_dict, sentence)\n",
    "    print(\"\")\n",
    "    BMM_ = BMM_func(user_dict, sentence)\n",
    "    print(\"\")\n",
    "    print(\"雙向最大匹配法斷詞結果為:\")\n",
    "    if (len(FMM_)) != (len(BMM_)):\n",
    "        return min(FMM_, BMM_)\n",
    "    else:\n",
    "        FMM_single = BMM_single = 0\n",
    "        for i in FMM_:\n",
    "            if len(i) == 1:\n",
    "                FMM_single += 1\n",
    "        for i in BMM_:\n",
    "            if len(i) == 1:\n",
    "                BMM_single += 1\n",
    "        if FMM_single > BMM_single:\n",
    "            return BMM_\n",
    "        else:\n",
    "            return FMM_\n",
    "\n",
    "Twoway_maximum_match(user_dict, sentence)"
   ]
  },
  {
   "cell_type": "markdown",
   "id": "5900579a-04b3-474f-bdb5-f833b72e3c43",
   "metadata": {},
   "source": [
    "# Trie (Prefix Tree)"
   ]
  },
  {
   "cell_type": "code",
   "execution_count": 6,
   "id": "c43089b8-4b9d-44f5-8844-5506e594d64a",
   "metadata": {},
   "outputs": [],
   "source": [
    "class Node:\n",
    "    def __init__(self, val):\n",
    "        self.val = val\n",
    "        self.child = {}\n",
    "        self.last = False\n",
    "\n",
    "class Trie:\n",
    "\n",
    "    def __init__(self):\n",
    "        self.root = Node(None)\n",
    "\n",
    "    def insert(self, word: str) -> None:\n",
    "        root = self.root\n",
    "        for ch in word:\n",
    "            if ch not in root.child:\n",
    "                root.child[ch] = Node(ch)\n",
    "            root = root.child[ch]\n",
    "            root.last = True\n",
    "\n",
    "    def search(self, word: str) -> bool:\n",
    "        root = self.root\n",
    "        for ch in word:\n",
    "            if ch not in root.child:\n",
    "                return False\n",
    "            root = root.child[ch]\n",
    "        return root.last\n",
    "\n",
    "    def startsWith(self, prefix: str) -> bool:\n",
    "        root = self.root\n",
    "        for ch in prefix:\n",
    "            if ch not in root.child:\n",
    "                return False\n",
    "            root = root.child[ch]\n",
    "        return True"
   ]
  },
  {
   "cell_type": "code",
   "execution_count": 7,
   "id": "397ea853-dda6-456f-ad3d-9b447717c618",
   "metadata": {},
   "outputs": [],
   "source": [
    "obj = Trie()"
   ]
  },
  {
   "cell_type": "code",
   "execution_count": 8,
   "id": "b451e0a5-532f-4ad2-8bb1-33f8bdf2650a",
   "metadata": {},
   "outputs": [
    {
     "data": {
      "text/plain": [
       "True"
      ]
     },
     "execution_count": 8,
     "metadata": {},
     "output_type": "execute_result"
    }
   ],
   "source": [
    "obj.insert(\"apple\")\n",
    "obj.search(\"apple\")"
   ]
  },
  {
   "cell_type": "code",
   "execution_count": 9,
   "id": "e33a36a4-2f3c-4356-825e-630dccddff26",
   "metadata": {},
   "outputs": [
    {
     "data": {
      "text/plain": [
       "True"
      ]
     },
     "execution_count": 9,
     "metadata": {},
     "output_type": "execute_result"
    }
   ],
   "source": [
    "obj.startsWith(\"appl\")"
   ]
  },
  {
   "cell_type": "code",
   "execution_count": 10,
   "id": "f37ef24c-4984-4bc9-bde9-cc730f5fdc8e",
   "metadata": {},
   "outputs": [
    {
     "data": {
      "text/plain": [
       "False"
      ]
     },
     "execution_count": 10,
     "metadata": {},
     "output_type": "execute_result"
    }
   ],
   "source": [
    "obj.search(\"orange\")"
   ]
  },
  {
   "cell_type": "code",
   "execution_count": 11,
   "id": "f4e35f56-c5ec-44da-a24a-3f98c8a3ac1a",
   "metadata": {},
   "outputs": [
    {
     "data": {
      "text/plain": [
       "True"
      ]
     },
     "execution_count": 11,
     "metadata": {},
     "output_type": "execute_result"
    }
   ],
   "source": [
    "obj.insert(\"pineapple\")\n",
    "obj.search(\"pineapple\")"
   ]
  },
  {
   "cell_type": "code",
   "execution_count": 12,
   "id": "6a774556-ffb3-48b7-bd9c-a0770a20de4b",
   "metadata": {},
   "outputs": [
    {
     "data": {
      "text/plain": [
       "True"
      ]
     },
     "execution_count": 12,
     "metadata": {},
     "output_type": "execute_result"
    }
   ],
   "source": [
    "obj.startsWith(\"appl\")"
   ]
  },
  {
   "cell_type": "code",
   "execution_count": 13,
   "id": "28c94bad-9d59-491b-b219-2639623d4dff",
   "metadata": {},
   "outputs": [
    {
     "data": {
      "text/plain": [
       "True"
      ]
     },
     "execution_count": 13,
     "metadata": {},
     "output_type": "execute_result"
    }
   ],
   "source": [
    "obj.startsWith(\"pine\")"
   ]
  },
  {
   "cell_type": "markdown",
   "id": "eab74822-cfab-427a-a2d8-fab3fd0027a2",
   "metadata": {},
   "source": [
    "# 動態規劃-Fibonacci Numbers"
   ]
  },
  {
   "cell_type": "code",
   "execution_count": 14,
   "id": "1d9a2235-397e-4626-8d3e-dc8ad8da9442",
   "metadata": {},
   "outputs": [],
   "source": [
    "class Solution:\n",
    "    def fib(self, n: int) -> int:    \n",
    "        if n == 0:\n",
    "            return 0\n",
    "        elif n == 1:\n",
    "            return 1\n",
    "        elif n == 2:\n",
    "            n = 0 + 1\n",
    "            return n\n",
    "        else:\n",
    "            return self.fib(n-1) + self.fib(n-2)"
   ]
  },
  {
   "cell_type": "code",
   "execution_count": 15,
   "id": "494d70f7-c019-4594-887d-e724cd071630",
   "metadata": {},
   "outputs": [],
   "source": [
    "test = Solution()"
   ]
  },
  {
   "cell_type": "code",
   "execution_count": 16,
   "id": "ec236ba8-3350-4e7d-87f1-aa62198e3e31",
   "metadata": {},
   "outputs": [
    {
     "data": {
      "text/plain": [
       "55"
      ]
     },
     "execution_count": 16,
     "metadata": {},
     "output_type": "execute_result"
    }
   ],
   "source": [
    "test.fib(10)"
   ]
  },
  {
   "cell_type": "code",
   "execution_count": 17,
   "id": "0dcd2f36-3418-43c4-bd80-58101a7c44b0",
   "metadata": {},
   "outputs": [
    {
     "data": {
      "text/plain": [
       "6765"
      ]
     },
     "execution_count": 17,
     "metadata": {},
     "output_type": "execute_result"
    }
   ],
   "source": [
    "test.fib(20)"
   ]
  },
  {
   "cell_type": "code",
   "execution_count": null,
   "id": "a7011856-8941-4e28-8382-ae6ce0035306",
   "metadata": {},
   "outputs": [],
   "source": []
  }
 ],
 "metadata": {
  "kernelspec": {
   "display_name": "Python 3 (ipykernel)",
   "language": "python",
   "name": "python3"
  },
  "language_info": {
   "codemirror_mode": {
    "name": "ipython",
    "version": 3
   },
   "file_extension": ".py",
   "mimetype": "text/x-python",
   "name": "python",
   "nbconvert_exporter": "python",
   "pygments_lexer": "ipython3",
   "version": "3.9.13"
  }
 },
 "nbformat": 4,
 "nbformat_minor": 5
}
