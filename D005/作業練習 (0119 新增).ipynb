{
 "cells": [
  {
   "cell_type": "markdown",
   "metadata": {
    "id": "Ai-ESLWpa7Ye"
   },
   "source": [
    "## 作業目標：\n",
    "\n",
    "本次作業的目標為熟練 Python 中基本的字串處理，透過以下幾個任務熟悉用法：\n",
    "- 任務 1: 將 List of String 變成一個 String 且都由 '-' 隔開\n",
    "- 任務 2: 將字串的第一個和最後一個字元變成大寫，中間部分則不變\n",
    "- 任務 3: 使用 f-string 產生與 format() 相同的效果\n",
    "- 任務 4: 判斷兩個字串的「身份」與「值」\n",
    "- 任務 5: 將字串進行反轉"
   ]
  },
  {
   "cell_type": "markdown",
   "metadata": {
    "id": "SbzEF-h2c-6Q"
   },
   "source": [
    "## 任務 1: 將 List of String 變成一個 String 且都由 '-' 隔開"
   ]
  },
  {
   "cell_type": "code",
   "execution_count": 1,
   "metadata": {
    "colab": {
     "base_uri": "https://localhost:8080/",
     "height": 35
    },
    "id": "vJ_LDJO-dARC",
    "outputId": "2d6b5803-200b-4144-f5a7-e3b5c52a8751"
   },
   "outputs": [
    {
     "data": {
      "text/plain": [
       "'a-b-c-d-e'"
      ]
     },
     "execution_count": 1,
     "metadata": {},
     "output_type": "execute_result"
    }
   ],
   "source": [
    "# list 初始化\n",
    "lst = ['a', 'b', 'c', 'd', 'e']\n",
    "\n",
    "# TODO: 將 List of String 變成一個 String 且都由 '-' 隔開\n",
    "'-'.join(lst)"
   ]
  },
  {
   "cell_type": "markdown",
   "metadata": {
    "id": "HBe0JJqMdRWo"
   },
   "source": [
    "## 任務 2: 將字串的第一個和最後一個字元變成大寫，中間部分則不變"
   ]
  },
  {
   "cell_type": "code",
   "execution_count": 2,
   "metadata": {
    "colab": {
     "base_uri": "https://localhost:8080/",
     "height": 35
    },
    "id": "ZStk6LAOdixJ",
    "outputId": "23fe17b3-4816-4464-d3a9-1f85d3599af5"
   },
   "outputs": [
    {
     "data": {
      "text/plain": [
       "'HellO'"
      ]
     },
     "execution_count": 2,
     "metadata": {},
     "output_type": "execute_result"
    }
   ],
   "source": [
    "# string 初始化\n",
    "str1 = 'hello'\n",
    "\n",
    "# TODO: 將字串的第一個和最後一個字元變成大寫，中間部分則不變\n",
    "str1[0].upper() + str1[1:-1] + str1[-1].upper()"
   ]
  },
  {
   "cell_type": "markdown",
   "metadata": {
    "id": "FoksBNUodvZx"
   },
   "source": [
    "## 任務 3: 使用 f-string 產生與 format() 相同的效果"
   ]
  },
  {
   "cell_type": "code",
   "execution_count": 3,
   "metadata": {
    "colab": {
     "base_uri": "https://localhost:8080/"
    },
    "id": "7M78irabeevc",
    "outputId": "db91205e-ef0d-4234-ce92-afaab3a93912"
   },
   "outputs": [
    {
     "name": "stdout",
     "output_type": "stream",
     "text": [
      "My name is Johnny. I am learning NLP\n",
      "My name is Johnny. I am learning NLP\n"
     ]
    }
   ],
   "source": [
    "name = 'Johnny'\n",
    "subject = 'NLP'\n",
    "\n",
    "print('My name is {}. I am learning {}'.format(name, subject))\n",
    "\n",
    "# TODO: 使用 f-string 產生與 format() 相同的效果\n",
    "print(f'My name is {name}. I am learning {subject}')"
   ]
  },
  {
   "cell_type": "markdown",
   "metadata": {
    "id": "zSbIrzfse7t6"
   },
   "source": [
    "## 任務 4: 判斷兩個字串的「身份」與「值」"
   ]
  },
  {
   "cell_type": "code",
   "execution_count": 4,
   "metadata": {
    "colab": {
     "base_uri": "https://localhost:8080/"
    },
    "id": "nmRzluRKfUBO",
    "outputId": "68ffa55f-e681-406a-a20f-03d49fd6e81a"
   },
   "outputs": [
    {
     "name": "stdout",
     "output_type": "stream",
     "text": [
      "False\n",
      "True\n"
     ]
    }
   ],
   "source": [
    "# 字串初始化\n",
    "str1 = 'hello!!!!!'\n",
    "str2 = 'hello!!!!!'\n",
    "\n",
    "# TODO: 判斷 str1 與 str2 字串的「身份」\n",
    "print(str1 is str2)\n",
    "\n",
    "# TODO: 判斷 str1 與 str2 字串的「值」\n",
    "print(str1 == str2)"
   ]
  },
  {
   "cell_type": "markdown",
   "metadata": {
    "id": "veBzP0nUf1K4"
   },
   "source": [
    "## 任務 5: 將字串進行反轉"
   ]
  },
  {
   "cell_type": "code",
   "execution_count": 5,
   "metadata": {
    "colab": {
     "base_uri": "https://localhost:8080/",
     "height": 35
    },
    "id": "HpjF9hqViNox",
    "outputId": "aa46e9dd-ab3e-4c93-d124-d716fe068dd9"
   },
   "outputs": [
    {
     "data": {
      "text/plain": [
       "'gninrom doog'"
      ]
     },
     "execution_count": 5,
     "metadata": {},
     "output_type": "execute_result"
    }
   ],
   "source": [
    "str1 = 'good morning'\n",
    "\n",
    "## TODO: 將字串進行反轉 (限用 slice 的方式)\n",
    "str1[::-1]"
   ]
  },
  {
   "cell_type": "code",
   "execution_count": null,
   "metadata": {},
   "outputs": [],
   "source": []
  }
 ],
 "metadata": {
  "colab": {
   "collapsed_sections": [],
   "name": "作業練習.ipynb",
   "provenance": []
  },
  "kernelspec": {
   "display_name": "Python 3 (ipykernel)",
   "language": "python",
   "name": "python3"
  },
  "language_info": {
   "codemirror_mode": {
    "name": "ipython",
    "version": 3
   },
   "file_extension": ".py",
   "mimetype": "text/x-python",
   "name": "python",
   "nbconvert_exporter": "python",
   "pygments_lexer": "ipython3",
   "version": "3.9.13"
  }
 },
 "nbformat": 4,
 "nbformat_minor": 4
}
