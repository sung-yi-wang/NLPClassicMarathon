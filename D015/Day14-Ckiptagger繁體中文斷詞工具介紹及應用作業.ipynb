{
 "cells": [
  {
   "cell_type": "code",
   "execution_count": 1,
   "id": "77203f3e-1b68-450f-b8a1-f4369a1a7646",
   "metadata": {
    "tags": []
   },
   "outputs": [],
   "source": [
    "## Yahoo新聞\n",
    "#https://tw.news.yahoo.com/omicron%E5%A4%A7%E7%88%86%E7%99%BC%E6%89%9B%E4%B8%8D%E4%BD%8F-%E5%8D%97%E9%9F%93%E5%AE%A3%E5%B8%83%E6%94%BE%E6%A3%84%E6%AA%A2%E6%B8%AC-%E8%BF%BD%E8%B9%A4%E8%BC%95%E7%97%87%E8%80%85-232554989.html"
   ]
  },
  {
   "cell_type": "code",
   "execution_count": 2,
   "id": "26d8ccc5-4a94-447f-9749-c16dcb1e85c4",
   "metadata": {
    "tags": []
   },
   "outputs": [
    {
     "data": {
      "text/plain": [
       "'Omicron大爆發扛不住 南韓宣布放棄檢測、追蹤輕症者\\n變種病毒Omicron傳染力極高，現在是大多數國家的主要流行病毒株，並大量肆虐中，先前靠著優秀的大規模檢測及積極主動追蹤，將疫情控制得宜的南韓也不敵Omicron，近半個月來每日確診數都破萬，讓衛生官員不堪負荷，政府也在7日宣布放棄檢測及追蹤輕症患者，更改防疫策略。\\n日、韓疫情燒不完，其中韓國自1月25日以來確診數日日破萬，且沒有減緩趨勢。美聯社報導，韓國疾管局報告指出，國內本週出現3萬8,691起新案，比1月中旬暴增9倍，感染的多為Omicron病毒株，並推測到了2月下旬，每日新增感染者可能多達13萬至17萬人。\\n而韓國自2020新冠肺炎疫情爆發起，衛生局與生技公司合作，不但加強實驗室的檢測量能、利用新技術追蹤可能接觸者儘早隔離，更透過智慧型手機GPS定位功能進行監測，派駐醫療人員前往患者住處進行治療，疫情也因此控制得宜。\\n不過由於Omicron傳染力太過強大，確診者激增，衛生人員不堪負荷，也耗盡了衛生及行政資源，韓國政府宣布放棄檢測及追蹤，改變防疫策略為60歲以下低風險輕症患者自行監測健康狀況，症狀惡化時再聯繫當地醫院；60歲以上的較高風險患者則持續由衛生單位監控、醫療人員到府檢查，希望能將醫療資源留給重症患者。\\n'"
      ]
     },
     "execution_count": 2,
     "metadata": {},
     "output_type": "execute_result"
    }
   ],
   "source": [
    "text = \"\"\"Omicron大爆發扛不住 南韓宣布放棄檢測、追蹤輕症者\n",
    "變種病毒Omicron傳染力極高，現在是大多數國家的主要流行病毒株，並大量肆虐中，先前靠著優秀的大規模檢測及積極主動追蹤，將疫情控制得宜的南韓也不敵Omicron，近半個月來每日確診數都破萬，讓衛生官員不堪負荷，政府也在7日宣布放棄檢測及追蹤輕症患者，更改防疫策略。\n",
    "日、韓疫情燒不完，其中韓國自1月25日以來確診數日日破萬，且沒有減緩趨勢。美聯社報導，韓國疾管局報告指出，國內本週出現3萬8,691起新案，比1月中旬暴增9倍，感染的多為Omicron病毒株，並推測到了2月下旬，每日新增感染者可能多達13萬至17萬人。\n",
    "而韓國自2020新冠肺炎疫情爆發起，衛生局與生技公司合作，不但加強實驗室的檢測量能、利用新技術追蹤可能接觸者儘早隔離，更透過智慧型手機GPS定位功能進行監測，派駐醫療人員前往患者住處進行治療，疫情也因此控制得宜。\n",
    "不過由於Omicron傳染力太過強大，確診者激增，衛生人員不堪負荷，也耗盡了衛生及行政資源，韓國政府宣布放棄檢測及追蹤，改變防疫策略為60歲以下低風險輕症患者自行監測健康狀況，症狀惡化時再聯繫當地醫院；60歲以上的較高風險患者則持續由衛生單位監控、醫療人員到府檢查，希望能將醫療資源留給重症患者。\n",
    "\"\"\"\n",
    "text"
   ]
  },
  {
   "cell_type": "markdown",
   "id": "1cdffc09-8c51-4122-8410-030ee6db60b2",
   "metadata": {},
   "source": [
    "# Q1: 請先去除換行符號，並使用Ckiptagger斷詞。"
   ]
  },
  {
   "cell_type": "code",
   "execution_count": null,
   "id": "4d663b5d-1af4-47ce-acd3-c2ebc89cdc6e",
   "metadata": {
    "tags": []
   },
   "outputs": [],
   "source": [
    "from ckiptagger import WS\n",
    "\n",
    "ws = WS('../../python_packages/CkipTagger/data')"
   ]
  },
  {
   "cell_type": "code",
   "execution_count": 4,
   "id": "f363bca5-67cb-47e1-abd2-b9228001e0fc",
   "metadata": {},
   "outputs": [
    {
     "name": "stdout",
     "output_type": "stream",
     "text": [
      "[['Omicron', '大', '爆發', '扛', '不', '住', ' ', '南韓', '宣布', '放棄', '檢測', '、', '追蹤', '輕', '症', '者', '變種', '病毒', 'Omicron', '傳染力', '極', '高', '，', '現在', '是', '大多數', '國家', '的', '主要', '流行', '病毒株', '，', '並', '大量', '肆虐', '中', '，', '先前', '靠', '著', '優秀', '的', '大規模', '檢測', '及', '積極', '主動', '追蹤', '，', '將', '疫情', '控制', '得宜', '的', '南韓', '也', '不敵', 'Omicron', '，', '近', '半', '個', '月', '來', '每日', '確診數', '都', '破', '萬', '，', '讓', '衛生', '官員', '不堪', '負荷', '，', '政府', '也', '在', '7日', '宣布', '放棄', '檢測', '及', '追蹤', '輕', '症', '患者', '，', '更改', '防疫', '策略', '。', '日', '、', '韓', '疫情', '燒', '不', '完', '，', '其中', '韓國', '自', '1月', '25日', '以來', '確診數', '日', '日', '破', '萬，', '且', '沒有', '減緩', '趨勢', '。', '美聯社', '報導', '，', '韓國', '疾管局', '報告', '指出', '，', '國內', '本', '週', '出現', '3萬8,691', '起', '新', '案', '，', '比', '1月', '中旬', '暴增', '9', '倍', '，', '感染', '的', '多', '為', 'Omicron', '病毒', '株', '，', '並', '推測到', '了', '2月', '下旬', '，', '每日', '新增', '感染', '者', '可能', '多達', '13萬', '至', '17萬', '人', '。', '而', '韓國', '自', '2020', '新冠', '肺炎', '疫情', '爆發', '起', '，', '衛生局', '與', '生技', '公司', '合作', '，', '不但', '加強', '實驗室', '的', '檢測', '量能', '、', '利用', '新', '技術', '追蹤', '可能', '接觸', '者', '儘早', '隔離', '，', '更', '透過', '智慧型', '手機', 'GPS', '定位', '功能', '進行', '監測', '，', '派駐', '醫療', '人員', '前往', '患者', '住處', '進行', '治療', '，', '疫情', '也', '因此', '控制', '得宜', '。', '不過', '由於', 'Omicron', '傳染力', '太過', '強大', '，', '確診', '者', '激增', '，', '衛生', '人員', '不堪', '負荷', '，', '也', '耗盡', '了', '衛生', '及', '行政', '資源', '，', '韓國', '政府', '宣布', '放棄', '檢測', '及', '追蹤', '，', '改變', '防疫', '策略', '為', '60', '歲', '以下', '低', '風險', '輕', '症', '患者', '自行', '監測', '健康', '狀況', '，', '症狀', '惡化', '時', '再', '聯繫', '當地', '醫院', '；', '60', '歲', '以上', '的', '較', '高', '風險', '患者', '則', '持續', '由', '衛生', '單位', '監控', '、', '醫療', '人員', '到', '府', '檢查', '，', '希望', '能', '將', '醫療', '資源', '留給', '重', '症', '患者', '。']]\n"
     ]
    }
   ],
   "source": [
    "text1 = text.replace('\\n', '')\n",
    "word_list = ws([text1])\n",
    "print(word_list)"
   ]
  },
  {
   "cell_type": "markdown",
   "id": "f1b619cd-c9d9-48f9-a3f9-82f77aa8a906",
   "metadata": {},
   "source": [
    "# Q2: 請使用Ckiptagger 進行詞性標記(POS Tagging)"
   ]
  },
  {
   "cell_type": "code",
   "execution_count": null,
   "id": "12a5f51b-0945-487b-a9d2-873f5860a668",
   "metadata": {
    "tags": []
   },
   "outputs": [],
   "source": [
    "from ckiptagger import POS\n",
    "\n",
    "pos = POS('../../python_packages/CkipTagger/data')"
   ]
  },
  {
   "cell_type": "code",
   "execution_count": 6,
   "id": "e6eba46f-4eff-45d9-b44a-90400ea53097",
   "metadata": {},
   "outputs": [
    {
     "name": "stdout",
     "output_type": "stream",
     "text": [
      "Omicron(FW) 大(VH) 爆發(VJ) 扛(VC) 不(D) 住(VC)  (WHITESPACE) 南韓(Nc) 宣布(VE) 放棄(VC) 檢測(VE) 、(PAUSECATEGORY) 追蹤(VC) 輕(VH) 症(Na) 者(Na) 變種(Na) 病毒(Na) Omicron(FW) 傳染力(Na) 極(Dfa) 高(VH) ，(COMMACATEGORY) 現在(Nd) 是(SHI) 大多數(Neqa) 國家(Na) 的(DE) 主要(A) 流行(VH) 病毒株(Na) ，(COMMACATEGORY) 並(Cbb) 大量(Neqa) 肆虐(VC) 中(Ng) ，(COMMACATEGORY) 先前(Nd) 靠(VJ) 著(Di) 優秀(VH) 的(DE) 大規模(D) 檢測(VE) 及(Caa) 積極(VH) 主動(VH) 追蹤(Nv) ，(COMMACATEGORY) 將(P) 疫情(Na) 控制(VC) 得宜(VH) 的(DE) 南韓(Nc) 也(D) 不敵(VJ) Omicron(FW) ，(COMMACATEGORY) 近(Nes) 半(Neqa) 個(Nf) 月(Na) 來(Ng) 每日(Nb) 確診數(Na) 都(D) 破(VHC) 萬(Neu) ，(COMMACATEGORY) 讓(VL) 衛生(Na) 官員(Na) 不堪(VK) 負荷(VC) ，(COMMACATEGORY) 政府(Na) 也(D) 在(P) 7日(Nd) 宣布(VE) 放棄(VC) 檢測(VE) 及(Caa) 追蹤(VC) 輕(VH) 症(Na) 患者(Na) ，(COMMACATEGORY) 更改(VC) 防疫(VA) 策略(Na) 。(PERIODCATEGORY) 日(Nc) 、(PAUSECATEGORY) 韓(Nc) 疫情(Na) 燒(VC) 不(D) 完(VC) ，(COMMACATEGORY) 其中(Nep) 韓國(Nc) 自(P) 1月(Nd) 25日(Nd) 以來(Ng) 確診數(Na) 日(Na) 日(Na) 破(VC) 萬，(Neu) 且(Cbb) 沒有(D) 減緩(VC) 趨勢(Na) 。(PERIODCATEGORY) 美聯社(Nc) 報導(VE) ，(COMMACATEGORY) 韓國(Nc) 疾管局(Nc) 報告(Na) 指出(VE) ，(COMMACATEGORY) 國內(Nc) 本(Nes) 週(Nf) 出現(VH) 3萬8,691(Neu) 起(Nf) 新(VH) 案(Na) ，(COMMACATEGORY) 比(P) 1月(Nd) 中旬(Nd) 暴增(VJ) 9(Neu) 倍(Na) ，(COMMACATEGORY) 感染(VJ) 的(DE) 多(D) 為(VG) Omicron(FW) 病毒(Na) 株(Nf) ，(COMMACATEGORY) 並(Cbb) 推測到(VE) 了(Di) 2月(Nd) 下旬(Nd) ，(COMMACATEGORY) 每日(D) 新增(VJ) 感染(VJ) 者(Na) 可能(D) 多達(VJ) 13萬(Neu) 至(Caa) 17萬(Neu) 人(Na) 。(PERIODCATEGORY) 而(Cbb) 韓國(Nc) 自(P) 2020(Nd) 新冠(Nb) 肺炎(Na) 疫情(Na) 爆發(VJ) 起(Di) ，(COMMACATEGORY) 衛生局(Nc) 與(Caa) 生技(Na) 公司(Nc) 合作(VH) ，(COMMACATEGORY) 不但(Cbb) 加強(VC) 實驗室(Nc) 的(DE) 檢測(VE) 量能(Na) 、(PAUSECATEGORY) 利用(VC) 新(VH) 技術(Na) 追蹤(Nv) 可能(D) 接觸(VC) 者(Na) 儘早(D) 隔離(VC) ，(COMMACATEGORY) 更(Dfa) 透過(P) 智慧型(Na) 手機(Na) GPS(FW) 定位(VB) 功能(Na) 進行(VC) 監測(VC) ，(COMMACATEGORY) 派駐(VCL) 醫療(Nv) 人員(Na) 前往(VCL) 患者(Na) 住處(Nc) 進行(VC) 治療(VC) ，(COMMACATEGORY) 疫情(Na) 也(D) 因此(Cbb) 控制(VC) 得宜(VH) 。(PERIODCATEGORY) 不過(Cbb) 由於(Cbb) Omicron(FW) 傳染力(Na) 太過(Dfa) 強大(VH) ，(COMMACATEGORY) 確診(VA) 者(Na) 激增(VH) ，(COMMACATEGORY) 衛生(Na) 人員(Na) 不堪(VK) 負荷(VC) ，(COMMACATEGORY) 也(D) 耗盡(VJ) 了(Di) 衛生(Na) 及(Caa) 行政(Na) 資源(Na) ，(COMMACATEGORY) 韓國(Nc) 政府(Na) 宣布(VE) 放棄(VC) 檢測(VE) 及(Caa) 追蹤(VC) ，(COMMACATEGORY) 改變(VC) 防疫(VA) 策略(Na) 為(VG) 60(Neu) 歲(Nf) 以下(Ng) 低(VH) 風險(Na) 輕(VH) 症(Na) 患者(Na) 自行(D) 監測(VC) 健康(VH) 狀況(Na) ，(COMMACATEGORY) 症狀(Na) 惡化(VH) 時(Ng) 再(D) 聯繫(VC) 當地(Nc) 醫院(Nc) ；(SEMICOLONCATEGORY) 60(Neu) 歲(Nf) 以上(Neqb) 的(DE) 較(Dfa) 高(VH) 風險(Na) 患者(Na) 則(D) 持續(VL) 由(P) 衛生(Na) 單位(Na) 監控(VC) 、(PAUSECATEGORY) 醫療(VC) 人員(Na) 到(VCL) 府(Na) 檢查(VE) ，(COMMACATEGORY) 希望(VK) 能(D) 將(P) 醫療(Nv) 資源(Na) 留給(VD) 重(VH) 症(Na) 患者(Na) 。(PERIODCATEGORY) "
     ]
    }
   ],
   "source": [
    "pos_list = pos(word_list)\n",
    "for word, pos in zip(word_list[0], pos_list[0]):\n",
    "    print(f'{word}({pos})', end=' ')"
   ]
  },
  {
   "cell_type": "markdown",
   "id": "1b69ffe3-ff4e-45e8-9347-feb2456bd36d",
   "metadata": {},
   "source": [
    "# Q3: 請使用Ckiptagger 進行命名實體識別(NER)"
   ]
  },
  {
   "cell_type": "code",
   "execution_count": null,
   "id": "25238e5c-f5f5-4f5a-86f8-23acf537b4b7",
   "metadata": {
    "tags": []
   },
   "outputs": [],
   "source": [
    "from ckiptagger import NER\n",
    "\n",
    "ner = NER('../../python_packages/CkipTagger/data')"
   ]
  },
  {
   "cell_type": "code",
   "execution_count": 8,
   "id": "0e048238-342d-47d6-a648-d273e2a44739",
   "metadata": {},
   "outputs": [
    {
     "data": {
      "text/plain": [
       "[{(0, 7, 'PERSON', 'Omicron'),\n",
       "  (14, 16, 'GPE', '南韓'),\n",
       "  (97, 99, 'GPE', '南韓'),\n",
       "  (102, 109, 'ORG', 'Omicron'),\n",
       "  (110, 114, 'DATE', '近半個月'),\n",
       "  (138, 140, 'DATE', '7日'),\n",
       "  (161, 162, 'GPE', '日'),\n",
       "  (163, 164, 'GPE', '韓'),\n",
       "  (172, 174, 'GPE', '韓國'),\n",
       "  (175, 180, 'DATE', '1月25日'),\n",
       "  (186, 187, 'GPE', '日'),\n",
       "  (198, 201, 'ORG', '美聯社'),\n",
       "  (204, 209, 'ORG', '韓國疾管局'),\n",
       "  (216, 218, 'DATE', '本週'),\n",
       "  (220, 227, 'CARDINAL', '3萬8,691'),\n",
       "  (232, 236, 'DATE', '1月中旬'),\n",
       "  (238, 239, 'CARDINAL', '9'),\n",
       "  (262, 266, 'DATE', '2月下旬'),\n",
       "  (278, 285, 'CARDINAL', '13萬至17萬'),\n",
       "  (288, 290, 'GPE', '韓國'),\n",
       "  (305, 308, 'ORG', '衛生局'),\n",
       "  (309, 313, 'ORG', '生技公司'),\n",
       "  (397, 404, 'ORG', 'Omicron'),\n",
       "  (439, 441, 'NORP', '韓國'),\n",
       "  (460, 465, 'DATE', '60歲以下'),\n",
       "  (494, 499, 'DATE', '60歲以上')}]"
      ]
     },
     "execution_count": 8,
     "metadata": {},
     "output_type": "execute_result"
    }
   ],
   "source": [
    "entity_list = ner(word_list, pos_list)\n",
    "entity_list"
   ]
  },
  {
   "cell_type": "markdown",
   "id": "cb2ef672-fccc-4845-8c74-9d4f9afd688a",
   "metadata": {},
   "source": [
    "# Q4:請建立自己的的使用者辭典並成功分類出'重症'、'輕症˙、'推測'、'半個月'、'每日'等單詞。"
   ]
  },
  {
   "cell_type": "code",
   "execution_count": 9,
   "id": "0e18dc80-fae7-4ce0-b4c3-64931da8745b",
   "metadata": {
    "tags": []
   },
   "outputs": [
    {
     "name": "stdout",
     "output_type": "stream",
     "text": [
      "[(2, {'重症': 1.0, '輕症': 1.0, '推測': 1.0, '每日': 1.0}), (3, {'半個月': 1.0})]\n"
     ]
    }
   ],
   "source": [
    "from ckiptagger import construct_dictionary\n",
    "\n",
    "word_to_weight = {'重症': 1, '輕症': 1, '推測': 1, '半個月': 1, '每日':1}\n",
    "dictionary = construct_dictionary(word_to_weight)\n",
    "print(dictionary)"
   ]
  },
  {
   "cell_type": "code",
   "execution_count": 10,
   "id": "e2be2fa9-306a-4fa2-afe0-988b8ddc4fa6",
   "metadata": {},
   "outputs": [
    {
     "name": "stdout",
     "output_type": "stream",
     "text": [
      "[['Omicron', '大', '爆發', '扛', '不', '住', ' ', '南韓', '宣布', '放棄', '檢測', '、', '追蹤', '輕症', '者', '變種', '病毒', 'Omicron', '傳染力', '極', '高', '，', '現在', '是', '大多數', '國家', '的', '主要', '流行', '病毒株', '，', '並', '大量', '肆虐', '中', '，', '先前', '靠', '著', '優秀', '的', '大規模', '檢測', '及', '積極', '主動', '追蹤', '，', '將', '疫情', '控制', '得宜', '的', '南韓', '也', '不敵', 'Omicron', '，', '近', '半個月', '來', '每日', '確診數', '都', '破', '萬', '，', '讓', '衛生', '官員', '不堪', '負荷', '，', '政府', '也', '在', '7日', '宣布', '放棄', '檢測', '及', '追蹤', '輕症', '患者', '，', '更改', '防疫', '策略', '。', '日', '、', '韓', '疫情', '燒', '不', '完', '，', '其中', '韓國', '自', '1月', '25日', '以來', '確診數', '日', '日', '破', '萬，', '且', '沒有', '減緩', '趨勢', '。', '美聯社', '報導', '，', '韓國', '疾管局', '報告', '指出', '，', '國內', '本', '週', '出現', '3萬8,691', '起', '新', '案', '，', '比', '1月', '中旬', '暴增', '9', '倍', '，', '感染', '的', '多', '為', 'Omicron', '病毒', '株', '，', '並', '推測到', '了', '2月', '下旬', '，', '每日', '新增', '感染', '者', '可能', '多達', '13萬', '至', '17萬', '人', '。', '而', '韓國', '自', '2020', '新冠', '肺炎', '疫情', '爆發', '起', '，', '衛生局', '與', '生技', '公司', '合作', '，', '不但', '加強', '實驗室', '的', '檢測', '量能', '、', '利用', '新', '技術', '追蹤', '可能', '接觸', '者', '儘早', '隔離', '，', '更', '透過', '智慧型', '手機', 'GPS', '定位', '功能', '進行', '監測', '，', '派駐', '醫療', '人員', '前往', '患者', '住處', '進行', '治療', '，', '疫情', '也', '因此', '控制', '得宜', '。', '不過', '由於', 'Omicron', '傳染力', '太過', '強大', '，', '確診', '者', '激增', '，', '衛生', '人員', '不堪', '負荷', '，', '也', '耗盡', '了', '衛生', '及', '行政', '資源', '，', '韓國', '政府', '宣布', '放棄', '檢測', '及', '追蹤', '，', '改變', '防疫', '策略', '為', '60', '歲', '以下', '低', '風險', '輕症', '患者', '自行', '監測', '健康', '狀況', '，', '症狀', '惡化', '時', '再', '聯繫', '當地', '醫院', '；', '60', '歲', '以上', '的', '較', '高', '風險', '患者', '則', '持續', '由', '衛生', '單位', '監控', '、', '醫療', '人員', '到', '府', '檢查', '，', '希望', '能', '將', '醫療', '資源', '留給', '重症', '患者', '。']]\n"
     ]
    }
   ],
   "source": [
    "ws = WS('../../python_packages/CkipTagger/data')\n",
    "word_sentence_list = ws([text1], recommend_dictionary=dictionary)\n",
    "print(word_sentence_list)"
   ]
  },
  {
   "cell_type": "code",
   "execution_count": null,
   "id": "3734c0e3-54a4-4d05-ba99-cd6250e0ba19",
   "metadata": {},
   "outputs": [],
   "source": []
  }
 ],
 "metadata": {
  "kernelspec": {
   "display_name": "Python 3 (ipykernel)",
   "language": "python",
   "name": "python3"
  },
  "language_info": {
   "codemirror_mode": {
    "name": "ipython",
    "version": 3
   },
   "file_extension": ".py",
   "mimetype": "text/x-python",
   "name": "python",
   "nbconvert_exporter": "python",
   "pygments_lexer": "ipython3",
   "version": "3.9.13"
  }
 },
 "nbformat": 4,
 "nbformat_minor": 5
}
