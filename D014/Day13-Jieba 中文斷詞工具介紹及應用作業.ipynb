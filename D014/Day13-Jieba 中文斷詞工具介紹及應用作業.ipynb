{
 "cells": [
  {
   "cell_type": "code",
   "execution_count": 1,
   "id": "77203f3e-1b68-450f-b8a1-f4369a1a7646",
   "metadata": {
    "tags": []
   },
   "outputs": [],
   "source": [
    "## Yahoo新聞\n",
    "# https://tw.news.yahoo.com/%E7%BE%8E%E5%9C%8B%E6%96%B0%E5%86%A0%E6%AD%BB%E4%BA%A1%E6%95%B8%E4%B8%96%E7%95%8C%E6%9C%80%E9%AB%98-omicron%E6%AD%BB%E4%BA%A1%E6%95%B8%E8%B6%85%E8%B6%8Adelta-044821350.html"
   ]
  },
  {
   "cell_type": "code",
   "execution_count": 2,
   "id": "26d8ccc5-4a94-447f-9749-c16dcb1e85c4",
   "metadata": {
    "tags": []
   },
   "outputs": [],
   "source": [
    "text = \"\"\"美國新冠死亡數世界最高 Omicron死亡數超越Delta\n",
    "英國衛報報導，美國新冠肺炎死亡病例逼近90萬，是全球所有國家中最多，相當於美國第15大城，比舊金山、華府或波士頓的人口都多。\n",
    "此外，美國新冠死亡率也是富國中最高，其中半數死亡病例發生在疫苗問世後。\n",
    "美國從未以全國一致且持久、主動的方式防疫，多數防疫責任落在個人身上。在收入極不平等、公共衛生不健全、政治對立嚴重的美國，防疫結果可想而知。\n",
    "美國尤其在疫苗接種方面落後，特別是與其他富國相比。醫療體系在遭遇一波波疫情衝擊前就已不穩。\n",
    "其他在疫情早期死亡數也很多的國家，在新冠病毒變異株Omicron擴散後，死亡數就下降，但美國的Omicron死亡病例已超越去年秋天Delta變異株疫情的死亡病例。\n",
    "同時，美國領袖想模仿其他國家回歸正常生活，但住院和死亡數明明與其他國家大相逕庭。美國平均每天新冠死亡數超過2400人，逼近911恐攻死亡數。\n",
    "布朗大學教務長、急診醫師梅根．蘭尼說：「問題主要是疫苗和加強針接種率不高，比多數高收入國家低。疾管署大量資料顯示，疫苗和加強針能有效防止新冠死亡，甚至在Omicron流行時也是。」\n",
    "美國疫苗供應充足，但疫苗接種率約64%，加強針接種率48%。\"\"\"\n"
   ]
  },
  {
   "cell_type": "markdown",
   "id": "8182ea5f-3976-472e-badc-d0b46fc08643",
   "metadata": {},
   "source": [
    "# Q1: 請先去除換行符號，並使用jieba斷詞。"
   ]
  },
  {
   "cell_type": "code",
   "execution_count": 3,
   "id": "b92011b0-5f98-40c9-b2cf-f7994fef4c99",
   "metadata": {
    "tags": []
   },
   "outputs": [
    {
     "name": "stderr",
     "output_type": "stream",
     "text": [
      "Building prefix dict from the default dictionary ...\n",
      "Loading model from cache /var/folders/2l/8v225ttd5cg64c4gntcy2zj00000gn/T/jieba.cache\n",
      "Loading model cost 0.828 seconds.\n",
      "Prefix dict has been built successfully.\n"
     ]
    },
    {
     "data": {
      "text/plain": [
       "'美國 新冠 死亡 數 世界 最高   Omicron 死亡 數 超越 Delta 英國衛報 報導 ， 美國 新冠 肺炎 死亡 病例 逼近 90 萬 ， 是 全球 所有 國 家中 最 多 ， 相當 於 美國 第 15 大城 ， 比舊 金山 、 華府 或 波士 頓 的 人口 都 多 。 此外 ， 美國 新冠 死亡率 也 是 富國 中 最高 ， 其中 半數 死亡 病例 發生 在 疫苗 問世 後 。 美國 從 未 以 全國 一致 且 持久 、 主動 的 方式 防疫 ， 多數 防疫 責任 落 在 個 人 身上 。 在 收入 極不 平等 、 公共 衛生 不 健全 、 政治 對立 嚴重 的 美國 ， 防疫 結果 可想而知 。 美國 尤其 在 疫苗 接種 方面 落 後 ， 特別 是 與 其他 富國 相比 。 醫療 體系 在 遭遇 一 波波 疫情 衝擊 前 就 已 不穩 。 其他 在 疫情 早期 死亡 數也 很多 的 國家 ， 在 新冠 病毒 變異株 Omicron 擴散 後 ， 死亡 數就 下降 ， 但 美國 的 Omicron 死亡 病例 已 超越 去年 秋天 Delta 變異株 疫情 的 死亡 病例 。 同時 ， 美國 領袖 想 模仿 其他 國家 回歸 正常 生活 ， 但 住院 和 死亡 數 明明 與 其他 國家 大 相 逕 庭 。 美國 平均 每天 新冠 死亡 數超過 2400 人 ， 逼近 911 恐攻 死亡 數 。 布朗 大學 教務長 、 急診 醫師 梅根 ． 蘭尼說 ： 「 問題 主要 是 疫苗 和 加強 針接 種率 不高 ， 比多數 高 收入 國家 低 。 疾管署 大量 資料 顯示 ， 疫苗 和 加強 針能 有效 防止 新冠 死亡 ， 甚至 在 Omicron 流行 時 也 是 。 」 美國 疫苗 供應 充足 ， 但 疫苗 接種 率 約 64% ， 加強 針接 種率 48% 。'"
      ]
     },
     "execution_count": 3,
     "metadata": {},
     "output_type": "execute_result"
    }
   ],
   "source": [
    "import jieba\n",
    "\n",
    "text1 = text.replace('\\n', '')\n",
    "' '.join(jieba.cut(text1))"
   ]
  },
  {
   "cell_type": "markdown",
   "id": "c7353125-22ae-4bc2-807c-a110529bd16b",
   "metadata": {},
   "source": [
    "# Q2: 請使用建立自己的的字典並成功分類'梅根．蘭尼'與'布朗大學˙。"
   ]
  },
  {
   "cell_type": "code",
   "execution_count": 4,
   "id": "d59e9369-7a2b-4c05-8b06-222d6a613e50",
   "metadata": {
    "tags": []
   },
   "outputs": [
    {
     "data": {
      "text/plain": [
       "'美國 新冠 死亡 數 世界 最高   Omicron 死亡 數 超越 Delta 英國衛報 報導 ， 美國 新冠 肺炎 死亡 病例 逼近 90 萬 ， 是 全球 所有 國 家中 最 多 ， 相當 於 美國 第 15 大城 ， 比舊 金山 、 華府 或 波士 頓 的 人口 都 多 。 此外 ， 美國 新冠 死亡率 也 是 富國 中 最高 ， 其中 半數 死亡 病例 發生 在 疫苗 問世 後 。 美國 從 未 以 全國 一致 且 持久 、 主動 的 方式 防疫 ， 多數 防疫 責任 落 在 個 人 身上 。 在 收入 極不 平等 、 公共 衛生 不 健全 、 政治 對立 嚴重 的 美國 ， 防疫 結果 可想而知 。 美國 尤其 在 疫苗 接種 方面 落 後 ， 特別 是 與 其他 富國 相比 。 醫療 體系 在 遭遇 一 波波 疫情 衝擊 前 就 已 不穩 。 其他 在 疫情 早期 死亡 數也 很多 的 國家 ， 在 新冠 病毒 變異株 Omicron 擴散 後 ， 死亡 數就 下降 ， 但 美國 的 Omicron 死亡 病例 已 超越 去年 秋天 Delta 變異株 疫情 的 死亡 病例 。 同時 ， 美國 領袖 想 模仿 其他 國家 回歸 正常 生活 ， 但 住院 和 死亡 數 明明 與 其他 國家 大 相 逕 庭 。 美國 平均 每天 新冠 死亡 數超過 2400 人 ， 逼近 911 恐攻 死亡 數 。 布朗大學 教務長 、 急診 醫師 梅根 ． 蘭尼說 ： 「 問題 主要 是 疫苗 和 加強 針接 種率 不高 ， 比多數 高 收入 國家 低 。 疾管署 大量 資料 顯示 ， 疫苗 和 加強 針能 有效 防止 新冠 死亡 ， 甚至 在 Omicron 流行 時 也 是 。 」 美國 疫苗 供應 充足 ， 但 疫苗 接種 率 約 64% ， 加強 針接 種率 48% 。'"
      ]
     },
     "execution_count": 4,
     "metadata": {},
     "output_type": "execute_result"
    }
   ],
   "source": [
    "jieba.add_word('梅根．蘭尼')\n",
    "jieba.add_word('布朗大學')\n",
    "' '.join(jieba.cut(text1))"
   ]
  },
  {
   "cell_type": "markdown",
   "id": "dc88f85f-d945-4f70-981e-119576378593",
   "metadata": {
    "execution": {
     "iopub.execute_input": "2022-02-07T09:08:37.911013Z",
     "iopub.status.busy": "2022-02-07T09:08:37.910456Z",
     "iopub.status.idle": "2022-02-07T09:08:37.916525Z",
     "shell.execute_reply": "2022-02-07T09:08:37.915337Z",
     "shell.execute_reply.started": "2022-02-07T09:08:37.910953Z"
    }
   },
   "source": [
    "# Q3: 請使用jieba進行詞性標記 (POS)"
   ]
  },
  {
   "cell_type": "code",
   "execution_count": 5,
   "id": "d5227590-359c-4fdc-8fca-b0c1584e52c0",
   "metadata": {
    "tags": []
   },
   "outputs": [
    {
     "data": {
      "text/plain": [
       "[pair('美國', 'ns'),\n",
       " pair('新冠', 'n'),\n",
       " pair('死亡', 'v'),\n",
       " pair('數', 'zg'),\n",
       " pair('世界', 'n'),\n",
       " pair('最高', 'a'),\n",
       " pair(' ', 'x'),\n",
       " pair('Omicron', 'eng'),\n",
       " pair('死亡', 'v'),\n",
       " pair('數', 'zg'),\n",
       " pair('超越', 'v'),\n",
       " pair('Delta', 'eng'),\n",
       " pair('英國', 'ns'),\n",
       " pair('衛報', 'n'),\n",
       " pair('報導', 'n'),\n",
       " pair('，', 'x'),\n",
       " pair('美國', 'ns'),\n",
       " pair('新冠', 'n'),\n",
       " pair('肺炎', 'n'),\n",
       " pair('死亡', 'v'),\n",
       " pair('病例', 'n'),\n",
       " pair('逼近', 'v'),\n",
       " pair('90', 'm'),\n",
       " pair('萬', 'm'),\n",
       " pair('，', 'x'),\n",
       " pair('是', 'v'),\n",
       " pair('全球', 'n'),\n",
       " pair('所有', 'b'),\n",
       " pair('國', 'zg'),\n",
       " pair('家中', 's'),\n",
       " pair('最', 'd'),\n",
       " pair('多', 'm'),\n",
       " pair('，', 'x'),\n",
       " pair('相當', 'd'),\n",
       " pair('於', 'nr'),\n",
       " pair('美國', 'ns'),\n",
       " pair('第', 'm'),\n",
       " pair('15', 'm'),\n",
       " pair('大城', 'ns'),\n",
       " pair('，', 'x'),\n",
       " pair('比舊', 'd'),\n",
       " pair('金山', 'nr'),\n",
       " pair('、', 'x'),\n",
       " pair('華府', 'n'),\n",
       " pair('或', 'c'),\n",
       " pair('波士', 'ns'),\n",
       " pair('頓', 'q'),\n",
       " pair('的', 'uj'),\n",
       " pair('人口', 'n'),\n",
       " pair('都', 'd'),\n",
       " pair('多', 'm'),\n",
       " pair('。', 'x'),\n",
       " pair('此外', 'c'),\n",
       " pair('，', 'x'),\n",
       " pair('美國', 'ns'),\n",
       " pair('新冠', 'n'),\n",
       " pair('死亡率', 'n'),\n",
       " pair('也', 'd'),\n",
       " pair('是', 'v'),\n",
       " pair('富國', 'ns'),\n",
       " pair('中', 'ns'),\n",
       " pair('最高', 'a'),\n",
       " pair('，', 'x'),\n",
       " pair('其中', 'r'),\n",
       " pair('半數', 'm'),\n",
       " pair('死亡', 'v'),\n",
       " pair('病例', 'n'),\n",
       " pair('發生', 'v'),\n",
       " pair('在', 'p'),\n",
       " pair('疫苗', 'n'),\n",
       " pair('問世', 'n'),\n",
       " pair('後', 'nr'),\n",
       " pair('。', 'x'),\n",
       " pair('美國', 'ns'),\n",
       " pair('從未', 'd'),\n",
       " pair('以', 'p'),\n",
       " pair('全國', 'n'),\n",
       " pair('一致', 'd'),\n",
       " pair('且', 'zg'),\n",
       " pair('持久', 'a'),\n",
       " pair('、', 'x'),\n",
       " pair('主動', 'b'),\n",
       " pair('的', 'uj'),\n",
       " pair('方式', 'n'),\n",
       " pair('防疫', 'vn'),\n",
       " pair('，', 'x'),\n",
       " pair('多數', 'm'),\n",
       " pair('防疫', 'vn'),\n",
       " pair('責任', 'n'),\n",
       " pair('落', 'v'),\n",
       " pair('在', 'p'),\n",
       " pair('個', 'm'),\n",
       " pair('人', 'n'),\n",
       " pair('身上', 's'),\n",
       " pair('。', 'x'),\n",
       " pair('在', 'p'),\n",
       " pair('收入', 'v'),\n",
       " pair('極不', 'd'),\n",
       " pair('平等', 'a'),\n",
       " pair('、', 'x'),\n",
       " pair('公共', 'b'),\n",
       " pair('衛生', 'an'),\n",
       " pair('不', 'd'),\n",
       " pair('健全', 'a'),\n",
       " pair('、', 'x'),\n",
       " pair('政治', 'n'),\n",
       " pair('對立', 'v'),\n",
       " pair('嚴重', 'a'),\n",
       " pair('的', 'uj'),\n",
       " pair('美國', 'ns'),\n",
       " pair('，', 'x'),\n",
       " pair('防疫', 'vn'),\n",
       " pair('結果', 'n'),\n",
       " pair('可想而知', 'l'),\n",
       " pair('。', 'x'),\n",
       " pair('美國', 'ns'),\n",
       " pair('尤其', 'd'),\n",
       " pair('在', 'p'),\n",
       " pair('疫苗', 'n'),\n",
       " pair('接種', 'v'),\n",
       " pair('方面', 'n'),\n",
       " pair('落', 'v'),\n",
       " pair('後', 'nr'),\n",
       " pair('，', 'x'),\n",
       " pair('特別', 'd'),\n",
       " pair('是', 'v'),\n",
       " pair('與', 'p'),\n",
       " pair('其他', 'r'),\n",
       " pair('富國', 'ns'),\n",
       " pair('相比', 'v'),\n",
       " pair('。', 'x'),\n",
       " pair('醫療', 'n'),\n",
       " pair('體系', 'n'),\n",
       " pair('在', 'p'),\n",
       " pair('遭遇', 'n'),\n",
       " pair('一', 'm'),\n",
       " pair('波波', 'ns'),\n",
       " pair('疫情', 'n'),\n",
       " pair('衝擊', 'vn'),\n",
       " pair('前', 'f'),\n",
       " pair('就', 'd'),\n",
       " pair('已', 'd'),\n",
       " pair('不穩', 'a'),\n",
       " pair('。', 'x'),\n",
       " pair('其他', 'r'),\n",
       " pair('在', 'p'),\n",
       " pair('疫情', 'n'),\n",
       " pair('早期', 't'),\n",
       " pair('死亡', 'v'),\n",
       " pair('數', 'm'),\n",
       " pair('也', 'd'),\n",
       " pair('很多', 'm'),\n",
       " pair('的', 'uj'),\n",
       " pair('國家', 'n'),\n",
       " pair('，', 'x'),\n",
       " pair('在', 'p'),\n",
       " pair('新冠', 'n'),\n",
       " pair('病毒', 'n'),\n",
       " pair('變異株', 'l'),\n",
       " pair('Omicron', 'eng'),\n",
       " pair('擴散', 'v'),\n",
       " pair('後', 'nr'),\n",
       " pair('，', 'x'),\n",
       " pair('死亡', 'v'),\n",
       " pair('數', 'm'),\n",
       " pair('就', 'd'),\n",
       " pair('下降', 'v'),\n",
       " pair('，', 'x'),\n",
       " pair('但', 'c'),\n",
       " pair('美國', 'ns'),\n",
       " pair('的', 'uj'),\n",
       " pair('Omicron', 'eng'),\n",
       " pair('死亡', 'v'),\n",
       " pair('病例', 'n'),\n",
       " pair('已', 'd'),\n",
       " pair('超越', 'v'),\n",
       " pair('去年', 't'),\n",
       " pair('秋天', 't'),\n",
       " pair('Delta', 'eng'),\n",
       " pair('變異株', 'l'),\n",
       " pair('疫情', 'n'),\n",
       " pair('的', 'uj'),\n",
       " pair('死亡', 'v'),\n",
       " pair('病例', 'n'),\n",
       " pair('。', 'x'),\n",
       " pair('同時', 'c'),\n",
       " pair('，', 'x'),\n",
       " pair('美國', 'ns'),\n",
       " pair('領袖', 'n'),\n",
       " pair('想', 'v'),\n",
       " pair('模仿', 'v'),\n",
       " pair('其他', 'r'),\n",
       " pair('國家', 'n'),\n",
       " pair('回歸', 'v'),\n",
       " pair('正常', 'd'),\n",
       " pair('生活', 'vn'),\n",
       " pair('，', 'x'),\n",
       " pair('但', 'c'),\n",
       " pair('住院', 'n'),\n",
       " pair('和', 'c'),\n",
       " pair('死亡', 'v'),\n",
       " pair('數', 'zg'),\n",
       " pair('明明', 't'),\n",
       " pair('與', 'zg'),\n",
       " pair('其他', 'r'),\n",
       " pair('國家大相', 'nr'),\n",
       " pair('逕', 'zg'),\n",
       " pair('庭', 'ng'),\n",
       " pair('。', 'x'),\n",
       " pair('美國', 'ns'),\n",
       " pair('平均', 'a'),\n",
       " pair('每天', 'r'),\n",
       " pair('新冠', 'n'),\n",
       " pair('死亡', 'v'),\n",
       " pair('數', 'm'),\n",
       " pair('超過', 'v'),\n",
       " pair('2400', 'm'),\n",
       " pair('人', 'n'),\n",
       " pair('，', 'x'),\n",
       " pair('逼近', 'v'),\n",
       " pair('911', 'm'),\n",
       " pair('恐', 'd'),\n",
       " pair('攻', 'v'),\n",
       " pair('死亡', 'v'),\n",
       " pair('數', 'zg'),\n",
       " pair('。', 'x'),\n",
       " pair('布朗大學', 'x'),\n",
       " pair('教務長', 'n'),\n",
       " pair('、', 'x'),\n",
       " pair('急診', 'v'),\n",
       " pair('醫師', 'n'),\n",
       " pair('梅根', 'nr'),\n",
       " pair('．', 'x'),\n",
       " pair('蘭尼', 'nr'),\n",
       " pair('說', 'v'),\n",
       " pair('：', 'x'),\n",
       " pair('「', 'x'),\n",
       " pair('問題', 'n'),\n",
       " pair('主要', 'b'),\n",
       " pair('是', 'v'),\n",
       " pair('疫苗', 'n'),\n",
       " pair('和', 'c'),\n",
       " pair('加強', 'v'),\n",
       " pair('針接', 'b'),\n",
       " pair('種率', 'n'),\n",
       " pair('不', 'd'),\n",
       " pair('高', 'a'),\n",
       " pair('，', 'x'),\n",
       " pair('比', 'p'),\n",
       " pair('多數', 'm'),\n",
       " pair('高', 'a'),\n",
       " pair('收入', 'v'),\n",
       " pair('國家', 'n'),\n",
       " pair('低', 'a'),\n",
       " pair('。', 'x'),\n",
       " pair('疾管署', 'n'),\n",
       " pair('大量', 'n'),\n",
       " pair('資料', 'n'),\n",
       " pair('顯示', 'v'),\n",
       " pair('，', 'x'),\n",
       " pair('疫苗', 'n'),\n",
       " pair('和', 'c'),\n",
       " pair('加強', 'v'),\n",
       " pair('針能', 'n'),\n",
       " pair('有效', 'a'),\n",
       " pair('防止', 'v'),\n",
       " pair('新冠', 'n'),\n",
       " pair('死亡', 'v'),\n",
       " pair('，', 'x'),\n",
       " pair('甚至', 'd'),\n",
       " pair('在', 'p'),\n",
       " pair('Omicron', 'eng'),\n",
       " pair('流行', 'v'),\n",
       " pair('時', 'ng'),\n",
       " pair('也', 'd'),\n",
       " pair('是', 'v'),\n",
       " pair('。', 'x'),\n",
       " pair('」', 'x'),\n",
       " pair('美國', 'ns'),\n",
       " pair('疫苗', 'n'),\n",
       " pair('供應', 'vn'),\n",
       " pair('充足', 'a'),\n",
       " pair('，', 'x'),\n",
       " pair('但', 'c'),\n",
       " pair('疫苗', 'n'),\n",
       " pair('接', 'v'),\n",
       " pair('種率', 'n'),\n",
       " pair('約', 'd'),\n",
       " pair('64', 'm'),\n",
       " pair('%', 'x'),\n",
       " pair('，', 'x'),\n",
       " pair('加強', 'v'),\n",
       " pair('針接', 'b'),\n",
       " pair('種率', 'n'),\n",
       " pair('48', 'm'),\n",
       " pair('%', 'x'),\n",
       " pair('。', 'x')]"
      ]
     },
     "execution_count": 5,
     "metadata": {},
     "output_type": "execute_result"
    }
   ],
   "source": [
    "import jieba.posseg as pseg\n",
    "\n",
    "pseg.lcut(text1)"
   ]
  },
  {
   "cell_type": "markdown",
   "id": "3d083e13-f7ea-4efc-9c71-57d639a60080",
   "metadata": {
    "execution": {
     "iopub.execute_input": "2022-02-07T09:10:30.548895Z",
     "iopub.status.busy": "2022-02-07T09:10:30.548398Z",
     "iopub.status.idle": "2022-02-07T09:10:30.553679Z",
     "shell.execute_reply": "2022-02-07T09:10:30.552487Z",
     "shell.execute_reply.started": "2022-02-07T09:10:30.548840Z"
    }
   },
   "source": [
    "# Q4: 請使用jieba進行關鍵字抽取，並設定topK為10"
   ]
  },
  {
   "cell_type": "code",
   "execution_count": 6,
   "id": "654dcfa9-cedd-4deb-87b5-46192029220c",
   "metadata": {},
   "outputs": [
    {
     "name": "stdout",
     "output_type": "stream",
     "text": [
      "['美國', '死亡', '新冠', 'Omicron', '國家', '疫苗', '加強', '病例', '防疫', '疫情']\n"
     ]
    }
   ],
   "source": [
    "import jieba.analyse\n",
    "\n",
    "tags = jieba.analyse.extract_tags(text1, topK=10)\n",
    "print(tags)"
   ]
  },
  {
   "cell_type": "code",
   "execution_count": null,
   "id": "ad05ba79-0552-4b68-8f89-8fc682ce2621",
   "metadata": {},
   "outputs": [],
   "source": []
  }
 ],
 "metadata": {
  "kernelspec": {
   "display_name": "Python 3 (ipykernel)",
   "language": "python",
   "name": "python3"
  },
  "language_info": {
   "codemirror_mode": {
    "name": "ipython",
    "version": 3
   },
   "file_extension": ".py",
   "mimetype": "text/x-python",
   "name": "python",
   "nbconvert_exporter": "python",
   "pygments_lexer": "ipython3",
   "version": "3.9.13"
  }
 },
 "nbformat": 4,
 "nbformat_minor": 5
}
