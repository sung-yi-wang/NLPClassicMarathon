{
 "cells": [
  {
   "cell_type": "markdown",
   "metadata": {
    "id": "7c6nUS4SOt0y"
   },
   "source": [
    "## 作業目標\n",
    "\n",
    "透過以下 2 個問題，熟練 Regular Expression 的寫法！"
   ]
  },
  {
   "cell_type": "markdown",
   "metadata": {
    "id": "CY2SK7CPZVr5"
   },
   "source": [
    "## Setting (Do Not Edit !!!)"
   ]
  },
  {
   "cell_type": "code",
   "execution_count": 1,
   "metadata": {
    "id": "JxOn2hMTb9eT"
   },
   "outputs": [],
   "source": [
    "import re"
   ]
  },
  {
   "cell_type": "code",
   "execution_count": 2,
   "metadata": {
    "id": "EMJOe1znedO0"
   },
   "outputs": [],
   "source": [
    "def check_result(result, ans):\n",
    "\n",
    "    for emt in result:\n",
    "        if emt in ans:\n",
    "            print(f'- {emt} --- correct')\n",
    "            ans.remove(emt)\n",
    "        else:\n",
    "            print(f'- {emt} --- incorrect (sould not be found)')\n",
    "    \n",
    "    for emt in ans:\n",
    "        print(f'- {emt} --- (sould be found)')"
   ]
  },
  {
   "cell_type": "code",
   "execution_count": 3,
   "metadata": {
    "id": "C-ZA1xiiZZEI"
   },
   "outputs": [],
   "source": [
    "def submit_ans(problem, pattern):\n",
    "\n",
    "    if problem == 1:\n",
    "        text = r'example@gmail.com ejrgnkwrnjg example@ntu.edu.tw example@apple.com example@sy.info.tech 3_0ewewfv_@abc.com @@@@ ronieluv@zip3.site wefwe@ fvd@ @@! _dsfsd@@erf 1_ //+-*@dfg.com +-564*/fd.@vf.com plg123@nycu.edu.tw'\n",
    "        ans = [\n",
    "            'example@gmail.com',\n",
    "            'example@ntu.edu.tw',\n",
    "            'example@apple.com',\n",
    "            'example@sy.info.tech',\n",
    "            '3_0ewewfv_@abc.com',\n",
    "            'plg123@nycu.edu.tw',\n",
    "            'ronieluv@zip3.site'\n",
    "        ]\n",
    "\n",
    "    \n",
    "    elif problem == 2:\n",
    "        text = r'0965-333-110 0-123456789 0123---465798 0325658963 03-123456--78-23 03-256-589-63 03-2565-8963 2314569632 256 999 -+1514 +165165 -154wef 0232987569 0232-256-693 3216-7896-10 02-32-65-89-26 366666333221 9874523651 0321458.36 5210452f8r 0236541.0b 9999*-+fv0 0236-6-6-5-896 023-654-789-2 963-652-632-1 012365478-9'\n",
    "        ans = [\n",
    "            '0965-333-110',\n",
    "            '0325658963',\n",
    "            '03-256-589-63',\n",
    "            '03-2565-8963',\n",
    "            '0232987569',\n",
    "            '0236-6-6-5-896',\n",
    "            '023-654-789-2',\n",
    "            '02-32-65-89-26',\n",
    "            '012365478-9',\n",
    "            '0232-256-693',\n",
    "            '0-123456789'\n",
    "        ]\n",
    "\n",
    "\n",
    "    result = re.findall(pattern, text)\n",
    "    print(f'result: {result}')\n",
    "    check_result(result, ans)\n"
   ]
  },
  {
   "cell_type": "markdown",
   "metadata": {
    "id": "2QiXjKvLO-QR"
   },
   "source": [
    "## 問題 1"
   ]
  },
  {
   "cell_type": "markdown",
   "metadata": {
    "id": "bJcwqPjvPBdj"
   },
   "source": [
    "撰寫一個 Regular Expression Pattern 正確的辨識出電子郵件地址。\n",
    "\n",
    "- 範例文章：\n",
    "\n",
    "    'Lorem ipsum dolor sit amet cursus ante. Cras metus lectus, venenatis finibus tellus eget, aliquet consequat nunc. Morbi vehicula l0021_egre@fb.com at ultrices euismod. Mauris in arcu volutpat, fringilla neque a, varius ligula. Maecenas non facilisis dolor. Proin turpis justo, tristique a dictum sollicitudin, ultricies ut urna. Vivamus example@gmail.com tortor nec diam volutpat tempus eget quis erat. Maecenas laoreet erat sit amet tristique ultricies. \n",
    "\n",
    "\n",
    "你撰寫的 pattern 必須能夠找出 'l0021_egre@fb.com' 與 'example@gmail.com'！"
   ]
  },
  {
   "cell_type": "code",
   "execution_count": 4,
   "metadata": {
    "id": "0SqEQ3vJPBKN"
   },
   "outputs": [],
   "source": [
    "# TODO: write your pattern\n",
    "pattern = r'\\w+@\\w+(?:\\.\\w+)+'"
   ]
  },
  {
   "cell_type": "code",
   "execution_count": 5,
   "metadata": {
    "colab": {
     "base_uri": "https://localhost:8080/"
    },
    "id": "g9F79FXoZQvD",
    "outputId": "d6a4fbbe-1eb6-4413-d90e-983ca631e65f"
   },
   "outputs": [
    {
     "name": "stdout",
     "output_type": "stream",
     "text": [
      "result: ['example@gmail.com', 'example@ntu.edu.tw', 'example@apple.com', 'example@sy.info.tech', '3_0ewewfv_@abc.com', 'ronieluv@zip3.site', 'plg123@nycu.edu.tw']\n",
      "- example@gmail.com --- correct\n",
      "- example@ntu.edu.tw --- correct\n",
      "- example@apple.com --- correct\n",
      "- example@sy.info.tech --- correct\n",
      "- 3_0ewewfv_@abc.com --- correct\n",
      "- ronieluv@zip3.site --- correct\n",
      "- plg123@nycu.edu.tw --- correct\n"
     ]
    }
   ],
   "source": [
    "submit_ans(1, pattern)"
   ]
  },
  {
   "cell_type": "markdown",
   "metadata": {
    "id": "wWSy31dscOsA"
   },
   "source": [
    "## 問題 2"
   ]
  },
  {
   "cell_type": "markdown",
   "metadata": {
    "id": "WKknZswPf3Gv"
   },
   "source": [
    "撰寫一個 Regular Expression Pattern 正確的辨識電話號碼\n",
    "- 10 碼\n",
    "- 第 1 碼必須為 0\n",
    "- 2 個數字之間最多一個分隔符號「-」\n",
    "\n",
    "範例文章：\n",
    "\n",
    "'Lorem ipsum dolor sit amet **0965111222** ante. Cras metus lectus, venenatis finibus tellus eget, aliquet consequat nunc. Morbi vehicula at ultrices euismod. Mauris in arcu volutpat, fringilla neque a, varius ligula. Maecenas non facilisis dolor. **0523-2365-12** turpis justo, tristique a **0800-650-632** sollicitudin, **08-563-658-10** ut urna. Vivamus tortor nec diam volutpat tempus eget quis erat. Maecenas laoreet erat sit amet tristique ultricies.\n",
    "\n",
    "你撰寫的 pattern 必須能夠找出 '0965111222'、'0800-650-632'、'08-563-658-10'、'0523-2365-12'！"
   ]
  },
  {
   "cell_type": "code",
   "execution_count": 6,
   "metadata": {
    "id": "gVTJf3yNgh2b"
   },
   "outputs": [],
   "source": [
    "# TODO: write your pattern\n",
    "# 提示：non-capturing group\n",
    "pattern = r'0(?:-?\\d){9}'"
   ]
  },
  {
   "cell_type": "code",
   "execution_count": 7,
   "metadata": {
    "colab": {
     "base_uri": "https://localhost:8080/"
    },
    "id": "Je9mKuy1gvTS",
    "outputId": "d011e596-4956-4394-c861-327179cf7e71"
   },
   "outputs": [
    {
     "name": "stdout",
     "output_type": "stream",
     "text": [
      "result: ['0965-333-110', '0-123456789', '0325658963', '03-256-589-63', '03-2565-8963', '0232987569', '0232-256-693', '02-32-65-89-26', '0236-6-6-5-896', '023-654-789-2', '012365478-9']\n",
      "- 0965-333-110 --- correct\n",
      "- 0-123456789 --- correct\n",
      "- 0325658963 --- correct\n",
      "- 03-256-589-63 --- correct\n",
      "- 03-2565-8963 --- correct\n",
      "- 0232987569 --- correct\n",
      "- 0232-256-693 --- correct\n",
      "- 02-32-65-89-26 --- correct\n",
      "- 0236-6-6-5-896 --- correct\n",
      "- 023-654-789-2 --- correct\n",
      "- 012365478-9 --- correct\n"
     ]
    }
   ],
   "source": [
    "submit_ans(2, pattern)"
   ]
  },
  {
   "cell_type": "code",
   "execution_count": null,
   "metadata": {},
   "outputs": [],
   "source": []
  }
 ],
 "metadata": {
  "colab": {
   "collapsed_sections": [
    "7c6nUS4SOt0y"
   ],
   "name": "作業練習.ipynb",
   "provenance": []
  },
  "kernelspec": {
   "display_name": "Python 3 (ipykernel)",
   "language": "python",
   "name": "python3"
  },
  "language_info": {
   "codemirror_mode": {
    "name": "ipython",
    "version": 3
   },
   "file_extension": ".py",
   "mimetype": "text/x-python",
   "name": "python",
   "nbconvert_exporter": "python",
   "pygments_lexer": "ipython3",
   "version": "3.9.13"
  }
 },
 "nbformat": 4,
 "nbformat_minor": 4
}
