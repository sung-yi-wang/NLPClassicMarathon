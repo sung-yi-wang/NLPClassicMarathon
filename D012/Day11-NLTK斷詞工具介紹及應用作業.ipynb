{
 "cells": [
  {
   "cell_type": "code",
   "execution_count": 1,
   "id": "77203f3e-1b68-450f-b8a1-f4369a1a7646",
   "metadata": {
    "tags": []
   },
   "outputs": [],
   "source": [
    "## 英文文本為此BBC新聞\n",
    "#https://www.bbc.com/news/health-60161124"
   ]
  },
  {
   "cell_type": "code",
   "execution_count": 2,
   "id": "26d8ccc5-4a94-447f-9749-c16dcb1e85c4",
   "metadata": {
    "tags": []
   },
   "outputs": [],
   "source": [
    "text = \"\"\"Omicron's fall has slowed - should we worry?\n",
    "Covid cases have been falling in the UK since early January - but that decline has now come to a halt.\n",
    "For more than a week, the daily number of positive tests being reported has been averaging just above 90,000.\n",
    "That's well above the peak of last winter. But how concerning is this?\n",
    "Covid cases have been falling in the UK since early January - but that decline has now come to a halt.\n",
    "For more than a week, the daily number of positive tests being reported has been averaging just above 90,000.\n",
    "That's well above the peak of last winter. But how concerning is this?\n",
    "But low levels of mixing also played a role. By the end of December, adults were averaging about 2.7 contacts a day - close to what was seen in the first lockdown.\n",
    "As people have returned to work and school, contacts will have increased, giving the virus more opportunity to spread.\n",
    "Particularly high levels are now being detected in children and this seems to be translating to an increase in cases in their parents' age group.\n",
    "Another factor that will come into play is waning immunity - by 10 weeks that initial protection against infection has started to wane quite significantly.\n",
    "Cases are now going to \"stay high until the spring\" and continue to disrupt our daily lives, Zoe Covid symptom-tracking app lead scientist Prof Tim Spector believes.\n",
    "\"It's crucial that we're responsible with our new freedoms and help prevent the virus reaching the more vulnerable groups,\" he says.\n",
    "\"\"\""
   ]
  },
  {
   "cell_type": "markdown",
   "id": "6705f11c-1898-430e-a07a-5cd521f52f58",
   "metadata": {},
   "source": [
    "# Q1: 請先去除換行符號，並使用簡單的str.split()斷句後，再進行一次str.split()斷詞。"
   ]
  },
  {
   "cell_type": "code",
   "execution_count": 3,
   "id": "6b79cc98-a4b3-473d-97a2-ffd8cbdba8df",
   "metadata": {
    "tags": []
   },
   "outputs": [
    {
     "name": "stdout",
     "output_type": "stream",
     "text": [
      "[\"Omicron's\", 'fall', 'has', 'slowed', '-', 'should', 'we', 'worry?Covid', 'cases', 'have', 'been', 'falling', 'in', 'the', 'UK', 'since', 'early', 'January', '-', 'but', 'that', 'decline', 'has', 'now', 'come', 'to', 'a', 'halt', 'For', 'more', 'than', 'a', 'week,', 'the', 'daily', 'number', 'of', 'positive', 'tests', 'being', 'reported', 'has', 'been', 'averaging', 'just', 'above', '90,000', \"That's\", 'well', 'above', 'the', 'peak', 'of', 'last', 'winter', 'But', 'how', 'concerning', 'is', 'this?Covid', 'cases', 'have', 'been', 'falling', 'in', 'the', 'UK', 'since', 'early', 'January', '-', 'but', 'that', 'decline', 'has', 'now', 'come', 'to', 'a', 'halt', 'For', 'more', 'than', 'a', 'week,', 'the', 'daily', 'number', 'of', 'positive', 'tests', 'being', 'reported', 'has', 'been', 'averaging', 'just', 'above', '90,000', \"That's\", 'well', 'above', 'the', 'peak', 'of', 'last', 'winter', 'But', 'how', 'concerning', 'is', 'this?But', 'low', 'levels', 'of', 'mixing', 'also', 'played', 'a', 'role', 'By', 'the', 'end', 'of', 'December,', 'adults', 'were', 'averaging', 'about', '2', '7', 'contacts', 'a', 'day', '-', 'close', 'to', 'what', 'was', 'seen', 'in', 'the', 'first', 'lockdown', 'As', 'people', 'have', 'returned', 'to', 'work', 'and', 'school,', 'contacts', 'will', 'have', 'increased,', 'giving', 'the', 'virus', 'more', 'opportunity', 'to', 'spread', 'Particularly', 'high', 'levels', 'are', 'now', 'being', 'detected', 'in', 'children', 'and', 'this', 'seems', 'to', 'be', 'translating', 'to', 'an', 'increase', 'in', 'cases', 'in', 'their', \"parents'\", 'age', 'group', 'Another', 'factor', 'that', 'will', 'come', 'into', 'play', 'is', 'waning', 'immunity', '-', 'by', '10', 'weeks', 'that', 'initial', 'protection', 'against', 'infection', 'has', 'started', 'to', 'wane', 'quite', 'significantly', 'Cases', 'are', 'now', 'going', 'to', '\"stay', 'high', 'until', 'the', 'spring\"', 'and', 'continue', 'to', 'disrupt', 'our', 'daily', 'lives,', 'Zoe', 'Covid', 'symptom-tracking', 'app', 'lead', 'scientist', 'Prof', 'Tim', 'Spector', 'believes', '\"It\\'s', 'crucial', 'that', \"we're\", 'responsible', 'with', 'our', 'new', 'freedoms', 'and', 'help', 'prevent', 'the', 'virus', 'reaching', 'the', 'more', 'vulnerable', 'groups,\"', 'he', 'says']\n"
     ]
    }
   ],
   "source": [
    "sentences = text.replace('\\n', '').split('.')\n",
    "token_text = []\n",
    "for s in sentences:\n",
    "    token_text.extend(s.split())\n",
    "print(token_text)"
   ]
  },
  {
   "cell_type": "markdown",
   "id": "afa3d30c-3fef-4e76-814b-9f2161288efe",
   "metadata": {},
   "source": [
    "# Q2: 請先去除換行符號，並使用NLTK斷詞。"
   ]
  },
  {
   "cell_type": "code",
   "execution_count": 4,
   "id": "b13f001d-8622-4a35-bdc2-13fdfcb5603c",
   "metadata": {
    "tags": []
   },
   "outputs": [
    {
     "name": "stdout",
     "output_type": "stream",
     "text": [
      "['Omicron', \"'s\", 'fall', 'has', 'slowed', '-', 'should', 'we', 'worry', '?']\n",
      "['Covid', 'cases', 'have', 'been', 'falling', 'in', 'the', 'UK', 'since', 'early', 'January', '-', 'but', 'that', 'decline', 'has', 'now', 'come', 'to', 'a', 'halt', '.']\n",
      "['For', 'more', 'than', 'a', 'week', ',', 'the', 'daily', 'number', 'of', 'positive', 'tests', 'being', 'reported', 'has', 'been', 'averaging', 'just', 'above', '90,000', '.']\n",
      "['That', \"'s\", 'well', 'above', 'the', 'peak', 'of', 'last', 'winter', '.']\n",
      "['But', 'how', 'concerning', 'is', 'this', '?']\n",
      "['Covid', 'cases', 'have', 'been', 'falling', 'in', 'the', 'UK', 'since', 'early', 'January', '-', 'but', 'that', 'decline', 'has', 'now', 'come', 'to', 'a', 'halt', '.']\n",
      "['For', 'more', 'than', 'a', 'week', ',', 'the', 'daily', 'number', 'of', 'positive', 'tests', 'being', 'reported', 'has', 'been', 'averaging', 'just', 'above', '90,000', '.']\n",
      "['That', \"'s\", 'well', 'above', 'the', 'peak', 'of', 'last', 'winter', '.']\n",
      "['But', 'how', 'concerning', 'is', 'this', '?']\n",
      "['But', 'low', 'levels', 'of', 'mixing', 'also', 'played', 'a', 'role', '.']\n",
      "['By', 'the', 'end', 'of', 'December', ',', 'adults', 'were', 'averaging', 'about', '2.7', 'contacts', 'a', 'day', '-', 'close', 'to', 'what', 'was', 'seen', 'in', 'the', 'first', 'lockdown', '.']\n",
      "['As', 'people', 'have', 'returned', 'to', 'work', 'and', 'school', ',', 'contacts', 'will', 'have', 'increased', ',', 'giving', 'the', 'virus', 'more', 'opportunity', 'to', 'spread', '.']\n",
      "['Particularly', 'high', 'levels', 'are', 'now', 'being', 'detected', 'in', 'children', 'and', 'this', 'seems', 'to', 'be', 'translating', 'to', 'an', 'increase', 'in', 'cases', 'in', 'their', 'parents', \"'\", 'age', 'group', '.']\n",
      "['Another', 'factor', 'that', 'will', 'come', 'into', 'play', 'is', 'waning', 'immunity', '-', 'by', '10', 'weeks', 'that', 'initial', 'protection', 'against', 'infection', 'has', 'started', 'to', 'wane', 'quite', 'significantly', '.']\n",
      "['Cases', 'are', 'now', 'going', 'to', '``', 'stay', 'high', 'until', 'the', 'spring', \"''\", 'and', 'continue', 'to', 'disrupt', 'our', 'daily', 'lives', ',', 'Zoe', 'Covid', 'symptom-tracking', 'app', 'lead', 'scientist', 'Prof', 'Tim', 'Spector', 'believes', '.']\n",
      "['``', 'It', \"'s\", 'crucial', 'that', 'we', \"'re\", 'responsible', 'with', 'our', 'new', 'freedoms', 'and', 'help', 'prevent', 'the', 'virus', 'reaching', 'the', 'more', 'vulnerable', 'groups', ',', \"''\", 'he', 'says', '.']\n"
     ]
    }
   ],
   "source": [
    "import nltk\n",
    "\n",
    "# nltk.download('punkt') #若沒執行過  要先執行。\n",
    "sentences = nltk.sent_tokenize(text)\n",
    "tokens = [nltk.word_tokenize(sent) for sent in sentences]\n",
    "\n",
    "for token in tokens:\n",
    "    print(token)"
   ]
  },
  {
   "cell_type": "markdown",
   "id": "2551b2d1-22b0-4bea-bb6e-5bcb2791b215",
   "metadata": {},
   "source": [
    "# Q3: 請使用NLTK內建的nltk.pos_tag( )來進行詞性標記。"
   ]
  },
  {
   "cell_type": "code",
   "execution_count": 5,
   "id": "bdbf8722-e351-48f9-b75a-4454a4a2b365",
   "metadata": {
    "tags": []
   },
   "outputs": [
    {
     "name": "stdout",
     "output_type": "stream",
     "text": [
      "[('Omicron', 'NNP'), (\"'s\", 'POS'), ('fall', 'NN'), ('has', 'VBZ'), ('slowed', 'VBN'), ('-', ':'), ('should', 'MD'), ('we', 'PRP'), ('worry', 'VB'), ('?', '.')]\n",
      "[('Covid', 'NNP'), ('cases', 'NNS'), ('have', 'VBP'), ('been', 'VBN'), ('falling', 'VBG'), ('in', 'IN'), ('the', 'DT'), ('UK', 'NNP'), ('since', 'IN'), ('early', 'RB'), ('January', 'NNP'), ('-', ':'), ('but', 'CC'), ('that', 'DT'), ('decline', 'NN'), ('has', 'VBZ'), ('now', 'RB'), ('come', 'VBN'), ('to', 'TO'), ('a', 'DT'), ('halt', 'NN'), ('.', '.')]\n",
      "[('For', 'IN'), ('more', 'JJR'), ('than', 'IN'), ('a', 'DT'), ('week', 'NN'), (',', ','), ('the', 'DT'), ('daily', 'JJ'), ('number', 'NN'), ('of', 'IN'), ('positive', 'JJ'), ('tests', 'NNS'), ('being', 'VBG'), ('reported', 'VBN'), ('has', 'VBZ'), ('been', 'VBN'), ('averaging', 'VBG'), ('just', 'RB'), ('above', 'IN'), ('90,000', 'CD'), ('.', '.')]\n",
      "[('That', 'DT'), (\"'s\", 'VBZ'), ('well', 'RB'), ('above', 'IN'), ('the', 'DT'), ('peak', 'NN'), ('of', 'IN'), ('last', 'JJ'), ('winter', 'NN'), ('.', '.')]\n",
      "[('But', 'CC'), ('how', 'WRB'), ('concerning', 'NN'), ('is', 'VBZ'), ('this', 'DT'), ('?', '.')]\n",
      "[('Covid', 'NNP'), ('cases', 'NNS'), ('have', 'VBP'), ('been', 'VBN'), ('falling', 'VBG'), ('in', 'IN'), ('the', 'DT'), ('UK', 'NNP'), ('since', 'IN'), ('early', 'RB'), ('January', 'NNP'), ('-', ':'), ('but', 'CC'), ('that', 'DT'), ('decline', 'NN'), ('has', 'VBZ'), ('now', 'RB'), ('come', 'VBN'), ('to', 'TO'), ('a', 'DT'), ('halt', 'NN'), ('.', '.')]\n",
      "[('For', 'IN'), ('more', 'JJR'), ('than', 'IN'), ('a', 'DT'), ('week', 'NN'), (',', ','), ('the', 'DT'), ('daily', 'JJ'), ('number', 'NN'), ('of', 'IN'), ('positive', 'JJ'), ('tests', 'NNS'), ('being', 'VBG'), ('reported', 'VBN'), ('has', 'VBZ'), ('been', 'VBN'), ('averaging', 'VBG'), ('just', 'RB'), ('above', 'IN'), ('90,000', 'CD'), ('.', '.')]\n",
      "[('That', 'DT'), (\"'s\", 'VBZ'), ('well', 'RB'), ('above', 'IN'), ('the', 'DT'), ('peak', 'NN'), ('of', 'IN'), ('last', 'JJ'), ('winter', 'NN'), ('.', '.')]\n",
      "[('But', 'CC'), ('how', 'WRB'), ('concerning', 'NN'), ('is', 'VBZ'), ('this', 'DT'), ('?', '.')]\n",
      "[('But', 'CC'), ('low', 'JJ'), ('levels', 'NNS'), ('of', 'IN'), ('mixing', 'NN'), ('also', 'RB'), ('played', 'VBD'), ('a', 'DT'), ('role', 'NN'), ('.', '.')]\n",
      "[('By', 'IN'), ('the', 'DT'), ('end', 'NN'), ('of', 'IN'), ('December', 'NNP'), (',', ','), ('adults', 'NNS'), ('were', 'VBD'), ('averaging', 'VBG'), ('about', 'RB'), ('2.7', 'CD'), ('contacts', 'NNS'), ('a', 'DT'), ('day', 'NN'), ('-', ':'), ('close', 'NN'), ('to', 'TO'), ('what', 'WP'), ('was', 'VBD'), ('seen', 'VBN'), ('in', 'IN'), ('the', 'DT'), ('first', 'JJ'), ('lockdown', 'NN'), ('.', '.')]\n",
      "[('As', 'IN'), ('people', 'NNS'), ('have', 'VBP'), ('returned', 'VBN'), ('to', 'TO'), ('work', 'VB'), ('and', 'CC'), ('school', 'NN'), (',', ','), ('contacts', 'NNS'), ('will', 'MD'), ('have', 'VB'), ('increased', 'VBN'), (',', ','), ('giving', 'VBG'), ('the', 'DT'), ('virus', 'NN'), ('more', 'JJR'), ('opportunity', 'NN'), ('to', 'TO'), ('spread', 'VB'), ('.', '.')]\n",
      "[('Particularly', 'RB'), ('high', 'JJ'), ('levels', 'NNS'), ('are', 'VBP'), ('now', 'RB'), ('being', 'VBG'), ('detected', 'VBN'), ('in', 'IN'), ('children', 'NNS'), ('and', 'CC'), ('this', 'DT'), ('seems', 'VBZ'), ('to', 'TO'), ('be', 'VB'), ('translating', 'VBG'), ('to', 'TO'), ('an', 'DT'), ('increase', 'NN'), ('in', 'IN'), ('cases', 'NNS'), ('in', 'IN'), ('their', 'PRP$'), ('parents', 'NNS'), (\"'\", 'POS'), ('age', 'NN'), ('group', 'NN'), ('.', '.')]\n",
      "[('Another', 'DT'), ('factor', 'NN'), ('that', 'WDT'), ('will', 'MD'), ('come', 'VB'), ('into', 'IN'), ('play', 'NN'), ('is', 'VBZ'), ('waning', 'VBG'), ('immunity', 'NN'), ('-', ':'), ('by', 'IN'), ('10', 'CD'), ('weeks', 'NNS'), ('that', 'IN'), ('initial', 'JJ'), ('protection', 'NN'), ('against', 'IN'), ('infection', 'NN'), ('has', 'VBZ'), ('started', 'VBN'), ('to', 'TO'), ('wane', 'VB'), ('quite', 'RB'), ('significantly', 'RB'), ('.', '.')]\n",
      "[('Cases', 'NNS'), ('are', 'VBP'), ('now', 'RB'), ('going', 'VBG'), ('to', 'TO'), ('``', '``'), ('stay', 'VB'), ('high', 'JJ'), ('until', 'IN'), ('the', 'DT'), ('spring', 'NN'), (\"''\", \"''\"), ('and', 'CC'), ('continue', 'VB'), ('to', 'TO'), ('disrupt', 'VB'), ('our', 'PRP$'), ('daily', 'JJ'), ('lives', 'NNS'), (',', ','), ('Zoe', 'NNP'), ('Covid', 'NNP'), ('symptom-tracking', 'JJ'), ('app', 'JJ'), ('lead', 'NN'), ('scientist', 'NN'), ('Prof', 'NNP'), ('Tim', 'NNP'), ('Spector', 'NNP'), ('believes', 'VBZ'), ('.', '.')]\n",
      "[('``', '``'), ('It', 'PRP'), (\"'s\", 'VBZ'), ('crucial', 'JJ'), ('that', 'IN'), ('we', 'PRP'), (\"'re\", 'VBP'), ('responsible', 'JJ'), ('with', 'IN'), ('our', 'PRP$'), ('new', 'JJ'), ('freedoms', 'NNS'), ('and', 'CC'), ('help', 'VB'), ('prevent', 'VB'), ('the', 'DT'), ('virus', 'NN'), ('reaching', 'VBG'), ('the', 'DT'), ('more', 'RBR'), ('vulnerable', 'JJ'), ('groups', 'NNS'), (',', ','), (\"''\", \"''\"), ('he', 'PRP'), ('says', 'VBZ'), ('.', '.')]\n"
     ]
    }
   ],
   "source": [
    "# nltk.download('averaged_perceptron_tagger') #若沒執行過  要先執行。\n",
    "\n",
    "pos = [nltk.pos_tag(token) for token in tokens]\n",
    "\n",
    "for item in pos:\n",
    "    print(item)"
   ]
  },
  {
   "cell_type": "markdown",
   "id": "263a0735-ccfb-4b51-986c-3c9abc613953",
   "metadata": {},
   "source": [
    "# Q4: 請使用NLTK內建的nltk.ne_chunk( )來進行命名實體識別。"
   ]
  },
  {
   "cell_type": "code",
   "execution_count": 6,
   "id": "21c44601-2f60-4ca2-8392-b895948d36da",
   "metadata": {
    "tags": []
   },
   "outputs": [
    {
     "name": "stdout",
     "output_type": "stream",
     "text": [
      "('Zoe Covid', 'PERSON')\n",
      "('Omicron', 'PERSON')\n",
      "('Covid', 'GPE')\n",
      "('UK', 'ORGANIZATION')\n"
     ]
    }
   ],
   "source": [
    "# nltk.download('maxent_ne_chunker') #若沒執行過  要先執行。\n",
    "# nltk.download('words') #若沒執行過  要先執行。\n",
    "\n",
    "ne_chunked_sents = [nltk.ne_chunk(tag) for tag in pos]\n",
    "named_entities = []\n",
    "\n",
    "for ne_tagged_sentence in ne_chunked_sents:\n",
    "    for tagged_tree in ne_tagged_sentence:\n",
    "        if hasattr(tagged_tree, 'label'):\n",
    "            entity_name = ' '.join(c[0] for c in tagged_tree.leaves())\n",
    "            entity_type = tagged_tree.label()\n",
    "            named_entities.append((entity_name, entity_type))\n",
    "            named_entities = list(set(named_entities))\n",
    "\n",
    "for ner in named_entities:\n",
    "    print(ner)"
   ]
  },
  {
   "cell_type": "code",
   "execution_count": null,
   "id": "0f7d01ce-ae0f-4f1b-8cb6-d7473938114d",
   "metadata": {},
   "outputs": [],
   "source": []
  }
 ],
 "metadata": {
  "kernelspec": {
   "display_name": "Python 3 (ipykernel)",
   "language": "python",
   "name": "python3"
  },
  "language_info": {
   "codemirror_mode": {
    "name": "ipython",
    "version": 3
   },
   "file_extension": ".py",
   "mimetype": "text/x-python",
   "name": "python",
   "nbconvert_exporter": "python",
   "pygments_lexer": "ipython3",
   "version": "3.9.13"
  }
 },
 "nbformat": 4,
 "nbformat_minor": 5
}
