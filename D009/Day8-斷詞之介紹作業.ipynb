{
 "cells": [
  {
   "cell_type": "markdown",
   "id": "249afda0-8882-4638-938e-92adce11067b",
   "metadata": {},
   "source": [
    "Q1: 請簡述為何我們需要斷詞?"
   ]
  },
  {
   "cell_type": "markdown",
   "id": "87a09406-8f2b-4b93-9675-252961a7e500",
   "metadata": {},
   "source": [
    "A: 將單詞向量化之前，我們需要將詞從句子中擷取出來，因為詞是最小有意義且可以自由使用的語言單位。\n",
    "任何需要處理語言的任務都必須先能分辨文本中的詞，才能進行進一步的處理。"
   ]
  },
  {
   "cell_type": "markdown",
   "id": "bd953cfc-70d2-4676-9ee5-f1c46f66ac55",
   "metadata": {},
   "source": [
    "Q2: 請簡述一種簡單的方法將英文文本斷詞。"
   ]
  },
  {
   "cell_type": "markdown",
   "id": "e9361d8e-e16c-4c2b-9c68-7b02b33ea796",
   "metadata": {},
   "source": [
    "A: 使用空格分割。"
   ]
  },
  {
   "cell_type": "markdown",
   "id": "caf2054f-1905-4e9b-9272-03d9761e7a08",
   "metadata": {},
   "source": [
    "Q3: 請說明漢語語系文字斷詞的難點。"
   ]
  },
  {
   "cell_type": "markdown",
   "id": "d1893570-8137-4f47-afd2-7d0c54a1784c",
   "metadata": {},
   "source": [
    "A: 中文、日文或韓文等漢語語系語言，詞與詞之間因為沒有使用空白符的特性，我們需要借助工具將詞分割。\n",
    "常見的困難有：\n",
    "1. 識別歧異詞\n",
    "2. 識別新詞\n",
    "3. 中文斷詞之標準\n",
    "4. 識別表情符號\n"
   ]
  },
  {
   "cell_type": "markdown",
   "id": "8d78843e-c210-4b8a-89f1-5ae178d81b58",
   "metadata": {},
   "source": [
    "Q4: 請列出三個常見的斷詞方法。"
   ]
  },
  {
   "cell_type": "markdown",
   "id": "f30d6b12-76b0-4d86-8cab-e3f5b494220a",
   "metadata": {},
   "source": [
    "A:\n",
    "1. 基於詞典的分詞法\n",
    "2. 統計的機器學習的分詞法\n",
    "3. 基於深度學習的的分詞法"
   ]
  },
  {
   "cell_type": "code",
   "execution_count": null,
   "id": "0628faa6-4ef0-42c0-99cf-9a78b9bc6ae4",
   "metadata": {},
   "outputs": [],
   "source": []
  }
 ],
 "metadata": {
  "kernelspec": {
   "display_name": "Python 3 (ipykernel)",
   "language": "python",
   "name": "python3"
  },
  "language_info": {
   "codemirror_mode": {
    "name": "ipython",
    "version": 3
   },
   "file_extension": ".py",
   "mimetype": "text/x-python",
   "name": "python",
   "nbconvert_exporter": "python",
   "pygments_lexer": "ipython3",
   "version": "3.9.13"
  }
 },
 "nbformat": 4,
 "nbformat_minor": 5
}
